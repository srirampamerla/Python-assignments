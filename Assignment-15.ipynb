{
 "cells": [
  {
   "cell_type": "markdown",
   "id": "dcb827de-f5d0-4c61-bd28-4328b98eb7d7",
   "metadata": {},
   "source": [
    "1. Please write a program using generator to print the numbers which can be divisible by 5 and 7 between 0 and n in comma separated form while n is input by console."
   ]
  },
  {
   "cell_type": "code",
   "execution_count": 9,
   "id": "d13593c2-7b6d-4ad6-9121-163b1a418902",
   "metadata": {},
   "outputs": [],
   "source": [
    "# class Gene:\n",
    "    # n=int(input(\"enter the range of n\"))\n",
    "    # i=0\n",
    "def gen(n):\n",
    "    for i in range(0,n):\n",
    "        if i%5==0 and i%7==0:\n",
    "            yield i\n",
    "    # result=[i for i in gen(n) ]\n",
    "    # print(result)"
   ]
  },
  {
   "cell_type": "code",
   "execution_count": 10,
   "id": "02eb585d-94a9-481a-80ae-b2ad94ab93ee",
   "metadata": {},
   "outputs": [
    {
     "data": {
      "text/plain": [
       "<generator object gen at 0x7f9dcc41ac70>"
      ]
     },
     "execution_count": 10,
     "metadata": {},
     "output_type": "execute_result"
    }
   ],
   "source": [
    "gen(50)"
   ]
  },
  {
   "cell_type": "code",
   "execution_count": 13,
   "id": "47ad072d-0bcb-4211-ada0-d7223d53d153",
   "metadata": {},
   "outputs": [
    {
     "name": "stdin",
     "output_type": "stream",
     "text": [
      "enter the range of n 100\n"
     ]
    },
    {
     "name": "stdout",
     "output_type": "stream",
     "text": [
      "[0, 35, 70]\n"
     ]
    }
   ],
   "source": [
    "n=int(input(\"enter the range of n\"))\n",
    "def gen(n):\n",
    "    for i in range(0,n):\n",
    "        if i%5==0 and i%7==0:\n",
    "            yield i\n",
    "result=[i for i in gen(n) ]\n",
    "print(result)"
   ]
  },
  {
   "cell_type": "markdown",
   "id": "77d01ea2-7dd6-4d3b-a7dc-989f2aaf75da",
   "metadata": {},
   "source": [
    "2. Please write a program using generator to print the even numbers between 0 and n in comma separated form while n is input by console."
   ]
  },
  {
   "cell_type": "code",
   "execution_count": 14,
   "id": "61f7d67a-487b-4d66-b3ca-c52e61e16599",
   "metadata": {},
   "outputs": [
    {
     "name": "stdin",
     "output_type": "stream",
     "text": [
      "enter the range of n 100\n"
     ]
    },
    {
     "name": "stdout",
     "output_type": "stream",
     "text": [
      "[0, 2, 4, 6, 8, 10, 12, 14, 16, 18, 20, 22, 24, 26, 28, 30, 32, 34, 36, 38, 40, 42, 44, 46, 48, 50, 52, 54, 56, 58, 60, 62, 64, 66, 68, 70, 72, 74, 76, 78, 80, 82, 84, 86, 88, 90, 92, 94, 96, 98]\n"
     ]
    }
   ],
   "source": [
    "n=int(input(\"enter the range of n\"))\n",
    "def gen(n):\n",
    "    for i in range(0,n):\n",
    "        if i%2==0:\n",
    "            yield i\n",
    "result=[i for i in gen(n) ]\n",
    "print(result)"
   ]
  },
  {
   "cell_type": "markdown",
   "id": "babdaf02-bf03-49e1-848a-6bf630037062",
   "metadata": {},
   "source": [
    "\n",
    "3. Please write a program using list comprehension to print the Fibonacci Sequence in comma separated form with a given n input by console."
   ]
  },
  {
   "cell_type": "code",
   "execution_count": 17,
   "id": "f01a0261-1e19-44d8-a55e-02d951590866",
   "metadata": {},
   "outputs": [
    {
     "name": "stdin",
     "output_type": "stream",
     "text": [
      "enter the range of n 10\n"
     ]
    },
    {
     "name": "stdout",
     "output_type": "stream",
     "text": [
      "[0, 1, 1, 2, 3, 5, 8, 13, 21, 34]\n"
     ]
    }
   ],
   "source": [
    "n=int(input(\"enter the range of n\"))\n",
    "def gen(n):\n",
    "    i=0\n",
    "    j=1\n",
    "    for k in range(0,n):\n",
    "            yield i\n",
    "            i,j=j,i+j\n",
    "result=[i for i in gen(n) ]\n",
    "print(result)"
   ]
  },
  {
   "cell_type": "markdown",
   "id": "70f6f37f-cd71-49a6-b928-9b20c7a28a4c",
   "metadata": {},
   "source": [
    "4. Assuming that we have some email addresses in the \"username@companyname.com\" format, please write program to print the user name of a given email address. Both user names and company names are composed of letters only."
   ]
  },
  {
   "cell_type": "code",
   "execution_count": 46,
   "id": "1d2e2d71-7b1b-462a-ade9-318741cba72b",
   "metadata": {},
   "outputs": [
    {
     "name": "stdout",
     "output_type": "stream",
     "text": [
      "Name as: inueron \n",
      "Domain name: ai\n"
     ]
    }
   ],
   "source": [
    "import re\n",
    "\n",
    "email = \"inueron@ai.com\"\n",
    "pattern = \"(\\w+)@(\\w+).com\"\n",
    "ans = re.findall(pattern,email)\n",
    "print(\"Name as:\",ans[0][0],\"\\nDomain name:\",ans[0][1])"
   ]
  },
  {
   "cell_type": "markdown",
   "id": "a38f3c85-be34-4f78-ba97-1212e83eef9a",
   "metadata": {},
   "source": [
    "5. Define a class named Shape and its subclass Square. The Square class has an init function which takes a length as argument. Both classes have a area function which can print the area of the shape where Shape's area is 0 by default."
   ]
  },
  {
   "cell_type": "code",
   "execution_count": 47,
   "id": "96546458-fdfa-4d47-8cc6-948da41ebc16",
   "metadata": {},
   "outputs": [],
   "source": [
    "class Shape:\n",
    "    def __init__(self, l):\n",
    "        self.l = l\n",
    "    def area(self):\n",
    "        return 0\n",
    "class Square(Shape):\n",
    "    def area(self):\n",
    "        return self.l*self.l"
   ]
  },
  {
   "cell_type": "code",
   "execution_count": 48,
   "id": "fc17a9a9-9385-4130-8f39-791ce7d26d14",
   "metadata": {},
   "outputs": [
    {
     "data": {
      "text/plain": [
       "<__main__.Square at 0x7f9db66551b0>"
      ]
     },
     "execution_count": 48,
     "metadata": {},
     "output_type": "execute_result"
    }
   ],
   "source": [
    "Square(10)"
   ]
  },
  {
   "cell_type": "code",
   "execution_count": 53,
   "id": "c682f24b-2863-48bd-aef7-c1e3cdc2915f",
   "metadata": {},
   "outputs": [
    {
     "data": {
      "text/plain": [
       "0"
      ]
     },
     "execution_count": 53,
     "metadata": {},
     "output_type": "execute_result"
    }
   ],
   "source": [
    "shape=Shape(10)\n",
    "shape.area()"
   ]
  },
  {
   "cell_type": "code",
   "execution_count": 54,
   "id": "968f868b-04f3-401e-834d-751c12f8cb68",
   "metadata": {},
   "outputs": [
    {
     "data": {
      "text/plain": [
       "100"
      ]
     },
     "execution_count": 54,
     "metadata": {},
     "output_type": "execute_result"
    }
   ],
   "source": [
    "square=Square(10)\n",
    "square.area()"
   ]
  },
  {
   "cell_type": "code",
   "execution_count": null,
   "id": "ca7cf490-c1c2-4aa6-a41b-94031d2725ff",
   "metadata": {},
   "outputs": [],
   "source": []
  }
 ],
 "metadata": {
  "kernelspec": {
   "display_name": "Python 3 (ipykernel)",
   "language": "python",
   "name": "python3"
  },
  "language_info": {
   "codemirror_mode": {
    "name": "ipython",
    "version": 3
   },
   "file_extension": ".py",
   "mimetype": "text/x-python",
   "name": "python",
   "nbconvert_exporter": "python",
   "pygments_lexer": "ipython3",
   "version": "3.10.6"
  }
 },
 "nbformat": 4,
 "nbformat_minor": 5
}
