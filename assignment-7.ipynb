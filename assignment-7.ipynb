{
 "cells": [
  {
   "cell_type": "markdown",
   "id": "cb2aa449-0d78-48d7-8761-3d466ace09b8",
   "metadata": {},
   "source": [
    "# Assignment-7"
   ]
  },
  {
   "cell_type": "markdown",
   "id": "c689efb6-7a46-446d-91a9-2f7bb62d1471",
   "metadata": {},
   "source": [
    "1. Write a Python Program to find sum of array?"
   ]
  },
  {
   "cell_type": "code",
   "execution_count": 3,
   "id": "dd7043c9-8592-4abb-97c4-9d83d826c0ba",
   "metadata": {},
   "outputs": [
    {
     "name": "stdout",
     "output_type": "stream",
     "text": [
      "total sum of array 194\n"
     ]
    }
   ],
   "source": [
    "arr=[1,5,44,90,22,-222,133,121]\n",
    "sum=0\n",
    "for i in range(0,len(arr)):\n",
    "    sum += arr[i]\n",
    "print(\"total sum of array\",sum)"
   ]
  },
  {
   "cell_type": "markdown",
   "id": "f922c14b-bc29-4730-94d3-cbea2f0250ca",
   "metadata": {},
   "source": [
    "\n",
    "2. Write a Python Program to find largest element in an array?"
   ]
  },
  {
   "cell_type": "code",
   "execution_count": 5,
   "id": "54cbc5ef-0854-40de-9678-02f63d1f9de0",
   "metadata": {},
   "outputs": [
    {
     "name": "stdout",
     "output_type": "stream",
     "text": [
      "Largest number in arr1 is: 90\n",
      "Largest number in arr2 is: 90\n"
     ]
    }
   ],
   "source": [
    "def largest(arr):\n",
    "    max=arr[0]\n",
    "    for i in range(1,len(arr)):\n",
    "        if(arr[i] > max):\n",
    "            max = arr[i]\n",
    "    return max\n",
    "arr1=[34,56,89,2,90,1]\n",
    "arr2=[90,12,9,34,78,22,67]\n",
    "print(\"Largest number in arr1 is:\",largest(arr1))\n",
    "print(\"Largest number in arr2 is:\",largest(arr2))"
   ]
  },
  {
   "cell_type": "markdown",
   "id": "a9ebd464-4e99-4ad2-88ac-7b5e1ec649bb",
   "metadata": {},
   "source": [
    "3. Write a Python Program for array rotation?\n"
   ]
  },
  {
   "cell_type": "code",
   "execution_count": 20,
   "id": "09b48f07-87b6-4df4-97fb-c6564619dd2c",
   "metadata": {},
   "outputs": [
    {
     "name": "stdout",
     "output_type": "stream",
     "text": [
      "[5, -44, 32, 21, 0]\n"
     ]
    }
   ],
   "source": [
    "arr=[0,21,32,-44,5]\n",
    "print(arr[::-1])"
   ]
  },
  {
   "cell_type": "markdown",
   "id": "6630a20e-b4b6-4e7a-90a8-7ab1554c7278",
   "metadata": {},
   "source": [
    "4. Write a Python Program to Split the array and add the first part to the end?"
   ]
  },
  {
   "cell_type": "code",
   "execution_count": 53,
   "id": "e7857067-fe80-4ac9-ac71-4473482cf5d7",
   "metadata": {},
   "outputs": [
    {
     "name": "stdout",
     "output_type": "stream",
     "text": [
      "5 6 52 36 12 10 "
     ]
    }
   ],
   "source": [
    "def split(arr, n, k):\n",
    "\tfor i in range(0, k):\n",
    "\t\tx = arr[0]\n",
    "\t\tfor j in range(0, n-1):\n",
    "\t\t\tarr[j] = arr[j + 1]\n",
    "\t\t\n",
    "\t\tarr[n-1] = x\n",
    "\n",
    "array = [12, 10, 5, 6, 52, 36]\n",
    "num = len(arr)\n",
    "pos = 2\n",
    "\n",
    "split(array, num, pos)\n",
    "for i in range(0, n):\n",
    "\tprint(arr[i], end = ' ')\n",
    "\n"
   ]
  },
  {
   "cell_type": "markdown",
   "id": "0b22ca78-9ed9-4838-b924-b308fb21c173",
   "metadata": {},
   "source": [
    "5. Write a Python Program to check if given array is Monotonic?"
   ]
  },
  {
   "cell_type": "code",
   "execution_count": 57,
   "id": "486cc600-7b1b-4136-9ee2-5e7f9e6ba087",
   "metadata": {},
   "outputs": [
    {
     "data": {
      "text/plain": [
       "True"
      ]
     },
     "execution_count": 57,
     "metadata": {},
     "output_type": "execute_result"
    }
   ],
   "source": [
    "def monotonicCheck(array):\n",
    "    flag = True\n",
    "    \n",
    "    if array[0] >= array[len(array)-1]:\n",
    "        for i in range(len(array)-2):\n",
    "            if array[i] < array[i+1]:\n",
    "                flag = False\n",
    "    else:\n",
    "        for i in range(len(array)-2):\n",
    "            if array[i] > array[i+1]:\n",
    "                flag = False\n",
    "                \n",
    "    return flag\n",
    "array = [1,2,3,56, 124, 369]\n",
    "monotonicCheck(array)\n"
   ]
  },
  {
   "cell_type": "code",
   "execution_count": 58,
   "id": "ea5c4132-ddaa-471f-abad-57a8b69a7cf6",
   "metadata": {},
   "outputs": [
    {
     "data": {
      "text/plain": [
       "False"
      ]
     },
     "execution_count": 58,
     "metadata": {},
     "output_type": "execute_result"
    }
   ],
   "source": [
    "array = [2,4,3,56, 124, 369]\n",
    "\n",
    "monotonicCheck(array)"
   ]
  },
  {
   "cell_type": "code",
   "execution_count": null,
   "id": "103173ab-a760-4bac-a67b-00406bb7d5b1",
   "metadata": {},
   "outputs": [],
   "source": []
  }
 ],
 "metadata": {
  "kernelspec": {
   "display_name": "Python 3 (ipykernel)",
   "language": "python",
   "name": "python3"
  },
  "language_info": {
   "codemirror_mode": {
    "name": "ipython",
    "version": 3
   },
   "file_extension": ".py",
   "mimetype": "text/x-python",
   "name": "python",
   "nbconvert_exporter": "python",
   "pygments_lexer": "ipython3",
   "version": "3.10.6"
  }
 },
 "nbformat": 4,
 "nbformat_minor": 5
}
