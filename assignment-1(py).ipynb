{
 "cells": [
  {
   "cell_type": "markdown",
   "id": "65dece35-9d01-4be1-9089-07123a5880ff",
   "metadata": {},
   "source": [
    "## Programming Assignment_1"
   ]
  },
  {
   "cell_type": "markdown",
   "id": "35ae084c-64b2-4fd3-9130-7bdf8fab461d",
   "metadata": {},
   "source": [
    "1. Write a Python program to print \"Hello Python\"?\n"
   ]
  },
  {
   "cell_type": "markdown",
   "id": "fc7b6369-61bd-46a8-be87-214d396a401f",
   "metadata": {},
   "source": [
    "sol:\n",
    "    "
   ]
  },
  {
   "cell_type": "code",
   "execution_count": 3,
   "id": "5c8dd311-3725-4bf3-903d-311ef8d76f14",
   "metadata": {},
   "outputs": [
    {
     "name": "stdout",
     "output_type": "stream",
     "text": [
      "Hello Python\n"
     ]
    }
   ],
   "source": [
    "print(\"Hello Python\")\n"
   ]
  },
  {
   "cell_type": "markdown",
   "id": "3a4fbd9c-5660-424b-a5c7-df12418a8bb1",
   "metadata": {},
   "source": [
    "2. Write a Python program to do arithmetical operations addition and division.?\n"
   ]
  },
  {
   "cell_type": "markdown",
   "id": "52db05c9-64ca-4a1e-aff3-4531d05aa502",
   "metadata": {},
   "source": [
    "sol:\n",
    "    "
   ]
  },
  {
   "cell_type": "code",
   "execution_count": 4,
   "id": "fd068c76-b49d-43f8-a4bf-17d54fed3d0d",
   "metadata": {},
   "outputs": [
    {
     "name": "stdout",
     "output_type": "stream",
     "text": [
      "Addition of a+b 9\n",
      "Division of a/b 2.0\n"
     ]
    }
   ],
   "source": [
    "a = 6\n",
    "b = 3\n",
    "#addition\n",
    "add = a+b\n",
    "#division\n",
    "div = a/b\n",
    "print(\"Addition of a+b\",add)\n",
    "print(\"Division of a/b\",div)"
   ]
  },
  {
   "cell_type": "markdown",
   "id": "566a51ab-9b00-4f14-b36b-de325b1117c2",
   "metadata": {},
   "source": [
    "3. Write a Python program to find the area of a triangle?"
   ]
  },
  {
   "cell_type": "markdown",
   "id": "50ee9dfd-2be3-4dd0-b3f2-9a85175f8e49",
   "metadata": {},
   "source": [
    "sol:"
   ]
  },
  {
   "cell_type": "code",
   "execution_count": 5,
   "id": "840625a3-4f59-4f47-946a-7b2d7a2f3d88",
   "metadata": {},
   "outputs": [
    {
     "name": "stdout",
     "output_type": "stream",
     "text": [
      "Area of triangle 25.0\n"
     ]
    }
   ],
   "source": [
    "height = 10\n",
    "base = 5\n",
    "Area = (height*base)/2\n",
    "print(\"Area of triangle\",Area)"
   ]
  },
  {
   "cell_type": "markdown",
   "id": "b8c170ea-b018-480b-973a-de4f1a0caa0a",
   "metadata": {},
   "source": [
    "4. Write a Python program to swap two variables?"
   ]
  },
  {
   "cell_type": "markdown",
   "id": "b79f598d-b858-4550-a1b4-e5833c8f04a1",
   "metadata": {},
   "source": [
    "sol:"
   ]
  },
  {
   "cell_type": "code",
   "execution_count": 7,
   "id": "fd0ad5b8-5b1a-4a3c-b2d8-c90ff41aa5c6",
   "metadata": {},
   "outputs": [
    {
     "name": "stdout",
     "output_type": "stream",
     "text": [
      "Before swapping:\n",
      "var1 = 123, var2 = 321\n",
      "After swapping:\n",
      "var1 = 321, var2 = 123\n",
      "After swapping:\n",
      "var1 = 321, var2 = 321\n"
     ]
    }
   ],
   "source": [
    "var1=123\n",
    "var2=321\n",
    "print('Before swapping:\\nvar1 = {}, var2 = {}'.format(var1, var2))\n",
    "print('After swapping:\\nvar1 = {}, var2 = {}'.format(var2, var1))\n",
    "temp=var1\n",
    "var1=var2\n",
    "var2=var1\n",
    "print('After swapping:\\nvar1 = {}, var2 = {}'.format(var2, var1))"
   ]
  },
  {
   "cell_type": "code",
   "execution_count": null,
   "id": "239acb2b-4e33-47fc-9b49-67d9c51ae218",
   "metadata": {},
   "outputs": [],
   "source": [
    "5. Write a Python program to generate a random number?"
   ]
  }
 ],
 "metadata": {
  "kernelspec": {
   "display_name": "Python 3 (ipykernel)",
   "language": "python",
   "name": "python3"
  },
  "language_info": {
   "codemirror_mode": {
    "name": "ipython",
    "version": 3
   },
   "file_extension": ".py",
   "mimetype": "text/x-python",
   "name": "python",
   "nbconvert_exporter": "python",
   "pygments_lexer": "ipython3",
   "version": "3.10.6"
  }
 },
 "nbformat": 4,
 "nbformat_minor": 5
}
