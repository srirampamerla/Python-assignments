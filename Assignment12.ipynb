{
 "cells": [
  {
   "cell_type": "markdown",
   "id": "86d1e1a6-15b8-4c3d-92ad-091ace7944af",
   "metadata": {},
   "source": [
    "1. Write a Python program to Extract Unique values dictionary values?"
   ]
  },
  {
   "cell_type": "code",
   "execution_count": 23,
   "id": "70c7fa25-9626-4f43-ba39-c0627ed0a8f4",
   "metadata": {},
   "outputs": [
    {
     "data": {
      "text/plain": [
       "{'bye', 'hello', 'hi'}"
      ]
     },
     "execution_count": 23,
     "metadata": {},
     "output_type": "execute_result"
    }
   ],
   "source": [
    "dict1={'key1':'hi','key2':'hello','key3':'hi','key4':'bye'}\n",
    "unique= {i for i in dict1.values()}\n",
    "unique"
   ]
  },
  {
   "cell_type": "markdown",
   "id": "377a3ad5-2c36-4706-9a17-cc4c98765c56",
   "metadata": {},
   "source": [
    "2. Write a Python program to find the sum of all items in a dictionary?"
   ]
  },
  {
   "cell_type": "code",
   "execution_count": 24,
   "id": "c948e76a-bec9-45bf-b5e1-95864378c788",
   "metadata": {},
   "outputs": [
    {
     "name": "stdout",
     "output_type": "stream",
     "text": [
      "Addition of values 369\n"
     ]
    }
   ],
   "source": [
    "dict2={'key1':80,\n",
    "        'key2':90,\n",
    "        'key3':99,\n",
    "        'key4':100}\n",
    "sum=0\n",
    "for i in dict2.values():\n",
    "    sum +=i\n",
    "print(f\"Addition of values\",sum) "
   ]
  },
  {
   "cell_type": "markdown",
   "id": "8fae2df9-9862-4f05-a1ef-6f4116eacc5b",
   "metadata": {},
   "source": [
    "3. Write a Python program to Merging two Dictionaries?"
   ]
  },
  {
   "cell_type": "code",
   "execution_count": 30,
   "id": "ad20a1b0-3ab8-412d-8a49-b365a530d1fe",
   "metadata": {},
   "outputs": [
    {
     "name": "stdout",
     "output_type": "stream",
     "text": [
      "{'key11': 801, 'key21': 901, 'key31': 991, 'key41': 1001, 'key1': 80, 'key2': 90, 'key3': 99, 'key4': 100}\n"
     ]
    }
   ],
   "source": [
    "dict1={'key11':801,\n",
    "        'key21':901,\n",
    "        'key31':991,\n",
    "        'key41':1001}\n",
    "def merge(dict1,dict2):\n",
    "    result= {**dict1, **dict2}\n",
    "    return result\n",
    "dict3=merge(dict1,dict2)\n",
    "print(dict3)"
   ]
  },
  {
   "cell_type": "markdown",
   "id": "2b7cd112-ec69-4b7c-a09a-37483029721a",
   "metadata": {},
   "source": [
    "\n",
    "4. Write a Python program to convert key-values list to flat dictionary?"
   ]
  },
  {
   "cell_type": "code",
   "execution_count": 34,
   "id": "13bcd8d0-92f8-49b2-9e8e-da169860c6a4",
   "metadata": {},
   "outputs": [
    {
     "name": "stdout",
     "output_type": "stream",
     "text": [
      "flattened dictionary: {1: 'sun', 2: 'mon', 3: 'tue', 4: 'wed', 5: 'thr', 6: 'fri', 7: 'sat'}\n"
     ]
    }
   ],
   "source": [
    "dict4={'day_id':[1,2,3,4,5,6,7],'day':['sun','mon','tue','wed','thr','fri','sat']}\n",
    "result=dict(zip(dict4['day_id'],dict4['day']))\n",
    "print(\"flattened dictionary:\",result)"
   ]
  },
  {
   "cell_type": "markdown",
   "id": "ec2a08de-d5e1-4cdc-be0c-354a8f6339b3",
   "metadata": {},
   "source": [
    "5. Write a Python program to insertion at the beginning in OrderedDict?"
   ]
  },
  {
   "cell_type": "code",
   "execution_count": 40,
   "id": "cf48e457-47f9-4d52-80c3-a54fd8b6c464",
   "metadata": {},
   "outputs": [
    {
     "data": {
      "text/plain": [
       "OrderedDict([('dec', 2022), ('jan', 2023), ('feb', 2023)])"
      ]
     },
     "execution_count": 40,
     "metadata": {},
     "output_type": "execute_result"
    }
   ],
   "source": [
    "from collections import OrderedDict\n",
    "#intilize ordered dict\n",
    "order_dict=OrderedDict([('jan',2023),('feb',2023)])\n",
    "order_dict.update({'dec':2022})\n",
    "order_dict.move_to_end('dec',last=False)\n",
    "order_dict"
   ]
  },
  {
   "cell_type": "markdown",
   "id": "66cea1c8-6730-4a8d-96b0-7ea6fb529712",
   "metadata": {},
   "source": [
    "6. Write a Python program to check order of character in string using OrderedDict()?"
   ]
  },
  {
   "cell_type": "code",
   "execution_count": 45,
   "id": "8b4798bf-0172-4647-8608-a7348af398eb",
   "metadata": {},
   "outputs": [],
   "source": [
    "from collections import OrderedDict \n",
    "def checkorder(string, pattern): \n",
    "    dic = OrderedDict.fromkeys(string) \n",
    "    count = 0\n",
    "    for key,value in dic.items(): \n",
    "        #print(key)\n",
    "        if (key == pattern[count]):\n",
    "            print(pattern[count])\n",
    "            ptr = ptr + 1\n",
    "        if (ptr == (len(pattern))): \n",
    "            return 'True'\n",
    "    return 'False'"
   ]
  },
  {
   "cell_type": "code",
   "execution_count": 49,
   "id": "3ec3812d-4770-497b-877c-4f2834a1aebc",
   "metadata": {},
   "outputs": [
    {
     "name": "stdout",
     "output_type": "stream",
     "text": [
      "c\n",
      "o\n",
      "m\n",
      "True\n"
     ]
    }
   ],
   "source": [
    "string2= 'Welcome'\n",
    "pattern2= 'com'\n",
    "print (checkOrder(string2,pattern2))"
   ]
  },
  {
   "cell_type": "markdown",
   "id": "0a9c9dcc-7e3e-4ce1-a75e-619a35711f29",
   "metadata": {},
   "source": [
    "7. Write a Python program to sort Python Dictionaries by Key or Value?"
   ]
  },
  {
   "cell_type": "code",
   "execution_count": 53,
   "id": "0099c346-4d6f-492f-a482-66321e566b0e",
   "metadata": {},
   "outputs": [
    {
     "name": "stdout",
     "output_type": "stream",
     "text": [
      "sorted of keys ['6', 'key1', 'key2', 'key4', 'key5']\n",
      "sorted of values [90, 99, 100, 111, 810]\n",
      "sorted of items [('6', 111), ('key1', 810), ('key2', 90), ('key4', 100), ('key5', 99)]\n"
     ]
    }
   ],
   "source": [
    "\n",
    "dict2={'key1':810,\n",
    "        'key2':90,\n",
    "        'key5':99,\n",
    "        'key4':100,\n",
    "      '6':111}\n",
    "print(\"sorted of keys\",sorted(dict2.keys()))\n",
    "print(\"sorted of values\",sorted(dict2.values()))\n",
    "print(\"sorted of items\",sorted(dict2.items()))"
   ]
  },
  {
   "cell_type": "code",
   "execution_count": null,
   "id": "a25d4126-cf86-44fd-ae7d-2d8d2eaa2ae6",
   "metadata": {},
   "outputs": [],
   "source": []
  }
 ],
 "metadata": {
  "kernelspec": {
   "display_name": "Python 3 (ipykernel)",
   "language": "python",
   "name": "python3"
  },
  "language_info": {
   "codemirror_mode": {
    "name": "ipython",
    "version": 3
   },
   "file_extension": ".py",
   "mimetype": "text/x-python",
   "name": "python",
   "nbconvert_exporter": "python",
   "pygments_lexer": "ipython3",
   "version": "3.10.6"
  }
 },
 "nbformat": 4,
 "nbformat_minor": 5
}
