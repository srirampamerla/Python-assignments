{
 "cells": [
  {
   "cell_type": "markdown",
   "id": "145504b3-f531-4140-9d44-d18aa029ad1e",
   "metadata": {},
   "source": [
    "# Assignment-6"
   ]
  },
  {
   "cell_type": "markdown",
   "id": "a8553b86-fc8f-45d1-b199-dbd0332de12b",
   "metadata": {},
   "source": [
    "1. Write a Python Program to Display Fibonacci Sequence Using Recursion?"
   ]
  },
  {
   "cell_type": "code",
   "execution_count": 1,
   "id": "8ca94d29-7396-40f7-9606-bcb972e220b3",
   "metadata": {},
   "outputs": [],
   "source": [
    "def fib(n):\n",
    "    a=0\n",
    "    b=1\n",
    "    print(a,end=' ')\n",
    "    print(b,end=' ')\n",
    "    sum=0\n",
    "    if n <=0:\n",
    "        print(\"enter a +ve number\")\n",
    "    elif(n ==1):\n",
    "        print(a)\n",
    "    else:\n",
    "        while(n-2>0):\n",
    "            c=a+b\n",
    "            print(c,end=' ')\n",
    "            a=b\n",
    "            b=c\n",
    "            n=n-1"
   ]
  },
  {
   "cell_type": "code",
   "execution_count": 2,
   "id": "50697cb1-2c4c-4d4e-8a5b-3f545e9ede13",
   "metadata": {},
   "outputs": [
    {
     "name": "stdout",
     "output_type": "stream",
     "text": [
      "0 1 1 2 "
     ]
    }
   ],
   "source": [
    "fib(4)\n"
   ]
  },
  {
   "cell_type": "markdown",
   "id": "fc3e85f1-e694-4dc2-b3cc-fb84dfb71064",
   "metadata": {},
   "source": [
    "2. Write a Python Program to Find Factorial of Number Using Recursion?"
   ]
  },
  {
   "cell_type": "code",
   "execution_count": 27,
   "id": "05bc74f6-ac36-40a7-af0a-9c0c85a1c48b",
   "metadata": {},
   "outputs": [],
   "source": [
    "def fact(n):\n",
    "    if n ==1:\n",
    "        return 1\n",
    "    elif n == 0:\n",
    "        return 1\n",
    "    elif n<1:\n",
    "        print(\"enter a valid number\")\n",
    "    else:\n",
    "        return n*fact(n-1)\n",
    "    "
   ]
  },
  {
   "cell_type": "code",
   "execution_count": 29,
   "id": "f9af5b88-de7c-4747-876b-775ad4a41c55",
   "metadata": {},
   "outputs": [
    {
     "name": "stdout",
     "output_type": "stream",
     "text": [
      "enter a valid number\n"
     ]
    }
   ],
   "source": [
    "fact(-1)\n"
   ]
  },
  {
   "cell_type": "markdown",
   "id": "6cd7fdf0-5c1b-4c3d-8012-eb68c4b29a45",
   "metadata": {},
   "source": [
    "3. Write a Python Program to calculate your Body Mass Index?"
   ]
  },
  {
   "cell_type": "code",
   "execution_count": 33,
   "id": "750c8a22-e741-4594-9490-b12c09872f72",
   "metadata": {},
   "outputs": [
    {
     "name": "stdin",
     "output_type": "stream",
     "text": [
      "Enter your height in meters:  1.8\n",
      "Enter your weight in kg:  80\n"
     ]
    },
    {
     "name": "stdout",
     "output_type": "stream",
     "text": [
      "Your BMI is:  24\n"
     ]
    }
   ],
   "source": [
    "import math\n",
    "def bmi(height, weight):\n",
    "    return math.floor(weight / height**2)\n",
    "\n",
    "\n",
    "height = float(input(\"Enter your height in meters: \"))\n",
    "weight = float(input(\"Enter your weight in kg: \"))\n",
    "BMI=bmi(height,weight)\n",
    "print(\"Your BMI is: \", BMI)"
   ]
  },
  {
   "cell_type": "markdown",
   "id": "cd10c8f0-ebf8-430c-be31-283fabbb4f35",
   "metadata": {},
   "source": [
    "4. Write a Python Program to calculate the natural logarithm of any number?"
   ]
  },
  {
   "cell_type": "code",
   "execution_count": 43,
   "id": "ac9ca452-9caa-40aa-9951-cc6764562bbb",
   "metadata": {},
   "outputs": [
    {
     "name": "stdin",
     "output_type": "stream",
     "text": [
      "enter the number 2\n"
     ]
    },
    {
     "name": "stdout",
     "output_type": "stream",
     "text": [
      "log of 2 is 0.6931471805599453\n"
     ]
    }
   ],
   "source": [
    "import math\n",
    "def log(n):\n",
    "    print(f\"log of {n} is {math.log(n)}\")\n",
    "try:\n",
    "    num=int(input('enter the number'))\n",
    "    log(num)\n",
    "except expection as ex:\n",
    "    print(ex)"
   ]
  },
  {
   "cell_type": "markdown",
   "id": "c21ff1b4-edcb-4689-9110-387d0e3c96ca",
   "metadata": {},
   "source": [
    "5. Write a Python Program for cube sum of first n natural numbers?"
   ]
  },
  {
   "cell_type": "code",
   "execution_count": 46,
   "id": "45eacd3f-593a-4d5a-a93b-c03f1e82b6a4",
   "metadata": {},
   "outputs": [
    {
     "name": "stdin",
     "output_type": "stream",
     "text": [
      "enter the number 6\n"
     ]
    },
    {
     "name": "stdout",
     "output_type": "stream",
     "text": [
      "cube of first 6 natural numbers is 441\n"
     ]
    }
   ],
   "source": [
    "def cube(n):\n",
    "    sum=0\n",
    "    for i in range(1,n+1):\n",
    "        sum += i**3\n",
    "    print(f\"cube of first {n} natural numbers is {sum}\")\n",
    "try:\n",
    "    num=int(input('enter the number'))\n",
    "    cube(num)\n",
    "except expection as ex:\n",
    "    print(ex)\n",
    "        "
   ]
  },
  {
   "cell_type": "code",
   "execution_count": null,
   "id": "6aee5f61-b5ba-4b18-b67d-694c197fb965",
   "metadata": {},
   "outputs": [],
   "source": []
  }
 ],
 "metadata": {
  "kernelspec": {
   "display_name": "Python 3 (ipykernel)",
   "language": "python",
   "name": "python3"
  },
  "language_info": {
   "codemirror_mode": {
    "name": "ipython",
    "version": 3
   },
   "file_extension": ".py",
   "mimetype": "text/x-python",
   "name": "python",
   "nbconvert_exporter": "python",
   "pygments_lexer": "ipython3",
   "version": "3.10.6"
  }
 },
 "nbformat": 4,
 "nbformat_minor": 5
}
