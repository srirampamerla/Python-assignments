{
 "cells": [
  {
   "cell_type": "markdown",
   "id": "4b1ee655-1738-46cd-8bc8-751b2007cc96",
   "metadata": {},
   "source": [
    "1. Write a Python program to find words which are greater than given length k?"
   ]
  },
  {
   "cell_type": "code",
   "execution_count": 18,
   "id": "2d06a618-0870-4b9f-96b1-326908022845",
   "metadata": {},
   "outputs": [],
   "source": [
    "def word(list,j):\n",
    "    output=[]\n",
    "    for i in list:\n",
    "        if len(i) > j:\n",
    "            output.append(i)\n",
    "    return output"
   ]
  },
  {
   "cell_type": "code",
   "execution_count": 20,
   "id": "7da3ea77-3984-4e9b-a4eb-88770a7f1e7a",
   "metadata": {},
   "outputs": [
    {
     "data": {
      "text/plain": [
       "['appendss']"
      ]
     },
     "execution_count": 20,
     "metadata": {},
     "output_type": "execute_result"
    }
   ],
   "source": [
    "list= ['roy','now','appendss']\n",
    "j = 5\n",
    "word(list, j)"
   ]
  },
  {
   "cell_type": "markdown",
   "id": "9f0a0e00-f604-40d1-b429-88702a5b5a12",
   "metadata": {},
   "source": [
    "2. Write a Python program for removing i-th character from a string?"
   ]
  },
  {
   "cell_type": "code",
   "execution_count": 23,
   "id": "9572c62c-1647-48f8-8601-66fca9a6a1c5",
   "metadata": {},
   "outputs": [],
   "source": [
    "def remove(str,i):\n",
    "    str=str.replace(str[i],'')\n",
    "    return str"
   ]
  },
  {
   "cell_type": "code",
   "execution_count": 24,
   "id": "4cf342c9-177a-4ce9-b1a6-71f8e5768c47",
   "metadata": {},
   "outputs": [
    {
     "data": {
      "text/plain": [
       "'abcshka'"
      ]
     },
     "execution_count": 24,
     "metadata": {},
     "output_type": "execute_result"
    }
   ],
   "source": [
    "remove('abcshdka',5)"
   ]
  },
  {
   "cell_type": "markdown",
   "id": "805f6fec-d78b-4aa1-b3b5-018bc1d71ce9",
   "metadata": {},
   "source": [
    "3. Write a Python program to split and join a string?"
   ]
  },
  {
   "cell_type": "code",
   "execution_count": 29,
   "id": "ee09749c-4b58-4373-8be7-e3ec97119d92",
   "metadata": {},
   "outputs": [
    {
     "name": "stdout",
     "output_type": "stream",
     "text": [
      "['Write', 'a', 'Python', 'program', 'to', 'split', 'and', 'join', 'a', 'string?']\n",
      "Write a Python program to split and join a string?\n"
     ]
    }
   ],
   "source": [
    "string = \"Write a Python program to split and join a string?\"\n",
    "\n",
    "split = string.split(' ')\n",
    "print(split)\n",
    "\n",
    "join = \" \".join(split)\n",
    "print(join)"
   ]
  },
  {
   "cell_type": "markdown",
   "id": "b1326434-6c2f-44da-952b-8accc230b41a",
   "metadata": {},
   "source": [
    "4. Write a Python to check if a given string is binary string or not?"
   ]
  },
  {
   "cell_type": "code",
   "execution_count": 33,
   "id": "d700e62c-7346-4cde-8c13-ed80b05f9f94",
   "metadata": {},
   "outputs": [
    {
     "name": "stdout",
     "output_type": "stream",
     "text": [
      "Write a Python program to split and join a string? it is not binary\n"
     ]
    }
   ],
   "source": [
    "string = \"Write a Python program to split and join a string?\"\n",
    "binary =['0','1']\n",
    "flag = True\n",
    "for i in string:\n",
    "    if i in binary:\n",
    "        flag =False\n",
    "if flag == True:\n",
    "    print(f\"{string} it is not binary\")\n",
    "else:\n",
    "    print(f\"{string} it is a binary\")\n",
    "    \n"
   ]
  },
  {
   "cell_type": "code",
   "execution_count": 34,
   "id": "ba69ff15-9167-4f4b-b967-fcaa7513d2e2",
   "metadata": {},
   "outputs": [
    {
     "name": "stdout",
     "output_type": "stream",
     "text": [
      "0 1 1 1 1 it is a binary\n"
     ]
    }
   ],
   "source": [
    "string = \"0 1 1 1 1\"\n",
    "binary =['0','1']\n",
    "flag = True\n",
    "for i in string:\n",
    "    if i in binary:\n",
    "        flag =False\n",
    "if flag == True:\n",
    "    print(f\"{string} it is not binary\")\n",
    "else:\n",
    "    print(f\"{string} it is a binary\")\n",
    "    "
   ]
  },
  {
   "cell_type": "markdown",
   "id": "9b3ce769-74e2-4a7e-b30d-4b65fb1a2197",
   "metadata": {},
   "source": [
    "5. Write a Python program to find uncommon words from two Strings?"
   ]
  },
  {
   "cell_type": "code",
   "execution_count": 12,
   "id": "2b0fb4a8-db63-40bf-bc1b-76225ec87db9",
   "metadata": {},
   "outputs": [
    {
     "name": "stdin",
     "output_type": "stream",
     "text": [
      "Enter the string1 hi how are u\n",
      "Enter the string2 hi fine\n"
     ]
    },
    {
     "data": {
      "text/plain": [
       "['how', 'are', 'u', 'fine']"
      ]
     },
     "execution_count": 12,
     "metadata": {},
     "output_type": "execute_result"
    }
   ],
   "source": [
    "\n",
    "string2=input('Enter the string2').split(' ')\n",
    "uncommon=[]\n",
    "for i in set(string1):\n",
    "    if i not in set(string2):\n",
    "        uncommon.append(i)\n",
    "for j in set(string2):\n",
    "    if j not in set(string1):\n",
    "        uncommon.append(j)\n",
    "uncommon"
   ]
  },
  {
   "cell_type": "markdown",
   "id": "f7db2d2e-6bca-4e1f-9957-aff1e5e31dbd",
   "metadata": {},
   "source": [
    "6. Write a Python to find all duplicate characters in string?"
   ]
  },
  {
   "cell_type": "code",
   "execution_count": 17,
   "id": "9b38668f-6a0a-4452-88c7-60bcf8fd9b9c",
   "metadata": {},
   "outputs": [
    {
     "name": "stdin",
     "output_type": "stream",
     "text": [
      "Enter the string1 welcome\n"
     ]
    },
    {
     "data": {
      "text/plain": [
       "{'e'}"
      ]
     },
     "execution_count": 17,
     "metadata": {},
     "output_type": "execute_result"
    }
   ],
   "source": [
    "string1=input('Enter the string1')\n",
    "duplicate=[]\n",
    "for i in string1:\n",
    "    if string1.count(i) > 1:\n",
    "        duplicate.append(i)\n",
    "set(duplicate)    "
   ]
  },
  {
   "cell_type": "markdown",
   "id": "931264e0-05d2-4203-9684-3128e862621b",
   "metadata": {},
   "source": [
    "7. Write a Python Program to check if a string contains any special character?"
   ]
  },
  {
   "cell_type": "code",
   "execution_count": 22,
   "id": "f31f0751-2d00-4be9-bfcd-320c71962aba",
   "metadata": {},
   "outputs": [
    {
     "name": "stdin",
     "output_type": "stream",
     "text": [
      "enter the string hi howa re \n"
     ]
    },
    {
     "name": "stdout",
     "output_type": "stream",
     "text": [
      "does not have special characters\n"
     ]
    }
   ],
   "source": [
    "import re\n",
    "str1=input(\"enter the string\")\n",
    "reg=re.compile('[@_!\\|#$%^&*()<>?/}{~:]')\n",
    "if(reg.search(str1) == None):\n",
    "    print(\"does not have special characters\")\n",
    "else:\n",
    "    print(\"Strng has special characters\")\n",
    "    \n",
    "    "
   ]
  },
  {
   "cell_type": "code",
   "execution_count": 23,
   "id": "f0a462c3-002b-4114-8ab4-5b0bc84ccbbb",
   "metadata": {},
   "outputs": [
    {
     "name": "stdin",
     "output_type": "stream",
     "text": [
      "enter the string hi*\n"
     ]
    },
    {
     "name": "stdout",
     "output_type": "stream",
     "text": [
      "Strng has special characters\n"
     ]
    }
   ],
   "source": [
    "import re\n",
    "str1=input(\"enter the string\")\n",
    "reg=re.compile('[@_!\\|#$%^&*()<>?/}{~:]')\n",
    "if(reg.search(str1) == None):\n",
    "    print(\"does not have special characters\")\n",
    "else:\n",
    "    print(\"Strng has special characters\")\n",
    "    \n",
    "    "
   ]
  },
  {
   "cell_type": "code",
   "execution_count": null,
   "id": "88c11237-e5c4-49b0-8257-4935d23f690b",
   "metadata": {},
   "outputs": [],
   "source": []
  }
 ],
 "metadata": {
  "kernelspec": {
   "display_name": "Python 3 (ipykernel)",
   "language": "python",
   "name": "python3"
  },
  "language_info": {
   "codemirror_mode": {
    "name": "ipython",
    "version": 3
   },
   "file_extension": ".py",
   "mimetype": "text/x-python",
   "name": "python",
   "nbconvert_exporter": "python",
   "pygments_lexer": "ipython3",
   "version": "3.10.6"
  }
 },
 "nbformat": 4,
 "nbformat_minor": 5
}
