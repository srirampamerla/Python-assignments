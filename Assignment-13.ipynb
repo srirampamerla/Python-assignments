{
 "cells": [
  {
   "cell_type": "markdown",
   "id": "f9df8288-2c1d-4289-b77d-cf791a1000d4",
   "metadata": {},
   "source": [
    "1. Write a program that calculates and prints the value according to the given formula:"
   ]
  },
  {
   "cell_type": "code",
   "execution_count": 5,
   "id": "8eecce0a-715d-428b-af9e-0230b318da1a",
   "metadata": {},
   "outputs": [
    {
     "name": "stdin",
     "output_type": "stream",
     "text": [
      "enter the arguments in comma seperated values 100,150,180\n"
     ]
    },
    {
     "data": {
      "text/plain": [
       "[18, 22, 24]"
      ]
     },
     "execution_count": 5,
     "metadata": {},
     "output_type": "execute_result"
    }
   ],
   "source": [
    "import math\n",
    "def calfor(args):\n",
    "    c=50\n",
    "    h=30\n",
    "    result=[]\n",
    "    for d in args:\n",
    "        result.append(int(math.sqrt((2*c*int(d))/h)))\n",
    "    return result\n",
    "inp = input('enter the arguments in comma seperated values').split(',')\n",
    "calfor(inp)"
   ]
  },
  {
   "cell_type": "markdown",
   "id": "baccd445-7c07-416d-be00-8ef67698fc28",
   "metadata": {},
   "source": [
    "2. Write a program which takes 2 digits, X,Y as input and generates a 2-dimensional array. The element value in the i-th row and j-th column of the array should be i*j."
   ]
  },
  {
   "cell_type": "code",
   "execution_count": 36,
   "id": "6db21467-7b0f-4255-ac2c-747e7f32ee6f",
   "metadata": {},
   "outputs": [
    {
     "name": "stdin",
     "output_type": "stream",
     "text": [
      "Enter X value:  3\n",
      "Enter Y value:  3\n"
     ]
    },
    {
     "name": "stdout",
     "output_type": "stream",
     "text": [
      "[0, 0, 0]\n",
      "[0, 1, 2]\n",
      "[0, 2, 4]\n"
     ]
    }
   ],
   "source": [
    "x = int(input(\"Enter X value: \"))\n",
    "y = int(input(\"Enter Y value: \"))\n",
    "\n",
    "for i in range(x):\n",
    "    row = []\n",
    "    for j in range(y):\n",
    "        row.append(i*j)\n",
    "    print(row)\n",
    "    \n"
   ]
  },
  {
   "cell_type": "markdown",
   "id": "04ed6b4c-ba81-43af-9351-76ddf0ad2e01",
   "metadata": {},
   "source": [
    "3. Write a program that accepts a comma separated sequence of words as input and prints the words in a comma-separated sequence after sorting them alphabetically."
   ]
  },
  {
   "cell_type": "code",
   "execution_count": 44,
   "id": "3f728bfa-ce27-4287-af1a-b1743d4ac19f",
   "metadata": {},
   "outputs": [
    {
     "name": "stdin",
     "output_type": "stream",
     "text": [
      "enter the comma seperated words hi,def,abc,hdes,fjad\n"
     ]
    },
    {
     "name": "stdout",
     "output_type": "stream",
     "text": [
      "['abc', 'def', 'fjad', 'hdes', 'hi']\n",
      "abc,def,fjad,hdes,hi\n"
     ]
    }
   ],
   "source": [
    "str1=input(\"enter the comma seperated words\").split(',')\n",
    "# print(str1)\n",
    "str1.sort()\n",
    "print(str1)\n",
    "print(','.join(str1))\n",
    "\n"
   ]
  },
  {
   "cell_type": "markdown",
   "id": "2aaa343b-21fe-4f38-855f-56c62f602c82",
   "metadata": {},
   "source": [
    "4. Write a program that accepts a sequence of whitespace separated words as input and prints the words after removing all duplicate words and sorting them alphanumerically."
   ]
  },
  {
   "cell_type": "code",
   "execution_count": 52,
   "id": "53810de8-b413-423d-8c7a-8efbc9605c3a",
   "metadata": {},
   "outputs": [
    {
     "name": "stdin",
     "output_type": "stream",
     "text": [
      "enter the comma seperated words hi this is inueron this is bang\n"
     ]
    },
    {
     "name": "stdout",
     "output_type": "stream",
     "text": [
      "bang hi inueron is this\n"
     ]
    }
   ],
   "source": [
    "str1=input(\"enter the comma seperated words\").split(' ')\n",
    "str2=[]\n",
    "for i in str1:\n",
    "    if i not in str2:\n",
    "        str2.append(i)\n",
    "    else:\n",
    "        continue\n",
    "str2.sort()\n",
    "print(' '.join(str2))\n"
   ]
  },
  {
   "cell_type": "markdown",
   "id": "dea82e8f-768e-4aee-9bb9-ca0dea66ff38",
   "metadata": {},
   "source": [
    "5. Write a program that accepts a sentence and calculate the number of letters and digits.\n"
   ]
  },
  {
   "cell_type": "code",
   "execution_count": 53,
   "id": "ff0cd9e1-cb2e-4254-be26-e1acd5a3aef1",
   "metadata": {},
   "outputs": [
    {
     "name": "stdin",
     "output_type": "stream",
     "text": [
      "enter the comma seperated words erd34\n"
     ]
    },
    {
     "name": "stdout",
     "output_type": "stream",
     "text": [
      "count of letters in str 3\n",
      "count of digits in str 2\n"
     ]
    }
   ],
   "source": [
    "str1=input(\"enter the comma seperated words\")\n",
    "l=d=0\n",
    "for i in str1:\n",
    "    if i.isdigit():#if (ord(c) >= ord('a') and ord(c) <= ord('z')) or (ord(c) >= ord('A') and ord(c) <= ord('Z'))\n",
    "        d+=1\n",
    "    if i.isalpha():#elif ord(c) >= ord('0') and ord(c) <= ord('9'):\n",
    "        l+=1\n",
    "print(\"count of letters in str\",l)\n",
    "print(\"count of digits in str\",d)\n"
   ]
  },
  {
   "cell_type": "markdown",
   "id": "f08c8333-3bec-48a9-b86f-3fc14916d5bb",
   "metadata": {},
   "source": [
    "6. A website requires the users to input username and password to register. Write a program to check the validity of password input by users."
   ]
  },
  {
   "cell_type": "code",
   "execution_count": 13,
   "id": "2b202958-cc64-421e-80c9-380cff59ace9",
   "metadata": {},
   "outputs": [
    {
     "name": "stdin",
     "output_type": "stream",
     "text": [
      "enter the username ram\n",
      "enter the password Ram@1234\n"
     ]
    },
    {
     "name": "stdout",
     "output_type": "stream",
     "text": [
      "it valid password\n"
     ]
    }
   ],
   "source": [
    "import re\n",
    "username=input(\"enter the username\")\n",
    "password=input(\"enter the password\")\n",
    "def check(password):\n",
    "    flag=True\n",
    "    while flag:\n",
    "        if (len(password) < 6 and len(password) > 12):\n",
    "            break\n",
    "        elif not re.search(\"[A-Z]\",password):\n",
    "            break\n",
    "        elif not re.search(\"[a-z]\",password):\n",
    "            break\n",
    "        elif not re.search(\"[@_!\\|#$%^&*()<>?/}{~:]\",password):\n",
    "            break\n",
    "        elif not re.search(\"[0-9]\",password):\n",
    "            break\n",
    "        else:\n",
    "            print(\"it valid password\")\n",
    "            flag=False\n",
    "            break\n",
    "    if flag:\n",
    "        print(\"It is not valid\")\n",
    "\n",
    "check(password)           "
   ]
  },
  {
   "cell_type": "code",
   "execution_count": 15,
   "id": "5edb5284-fa2f-4013-af9a-ca960179cb3a",
   "metadata": {},
   "outputs": [
    {
     "name": "stdout",
     "output_type": "stream",
     "text": [
      "It is not valid\n"
     ]
    }
   ],
   "source": [
    "check('ram')"
   ]
  },
  {
   "cell_type": "code",
   "execution_count": null,
   "id": "f426aab9-cb2e-4019-9bab-8078b7528b21",
   "metadata": {},
   "outputs": [],
   "source": []
  }
 ],
 "metadata": {
  "kernelspec": {
   "display_name": "Python 3 (ipykernel)",
   "language": "python",
   "name": "python3"
  },
  "language_info": {
   "codemirror_mode": {
    "name": "ipython",
    "version": 3
   },
   "file_extension": ".py",
   "mimetype": "text/x-python",
   "name": "python",
   "nbconvert_exporter": "python",
   "pygments_lexer": "ipython3",
   "version": "3.10.6"
  }
 },
 "nbformat": 4,
 "nbformat_minor": 5
}
