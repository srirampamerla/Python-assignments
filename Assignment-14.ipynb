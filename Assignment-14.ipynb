{
 "cells": [
  {
   "cell_type": "markdown",
   "id": "0dba82f1-2265-44e9-91d8-90d3a7bac483",
   "metadata": {},
   "source": [
    "1. Define a class with a generator which can iterate the numbers, which are divisible by 7, between a given range 0 and n."
   ]
  },
  {
   "cell_type": "code",
   "execution_count": 33,
   "id": "0c4c6662-593a-44a0-b37d-97f99fd02d24",
   "metadata": {},
   "outputs": [
    {
     "name": "stdin",
     "output_type": "stream",
     "text": [
      "enter the range of n 100\n"
     ]
    },
    {
     "name": "stdout",
     "output_type": "stream",
     "text": [
      "[0, 7, 14, 21, 28, 35, 42, 49, 56, 63, 70, 77, 84, 91, 98]\n"
     ]
    }
   ],
   "source": [
    "class Gene:\n",
    "    n=int(input(\"enter the range of n\"))\n",
    "    i=0\n",
    "    def gen(n):\n",
    "        for i in range(0,n):\n",
    "            if i%7==0:\n",
    "                yield i\n",
    "    result=[i for i in gen(n) ]\n",
    "    print(result)\n",
    "    \n"
   ]
  },
  {
   "cell_type": "markdown",
   "id": "efd8d2d6-b5de-437c-883c-f40da3c9361c",
   "metadata": {},
   "source": [
    "2. Write a program to compute the frequency of the words from the input. The output should output after sorting the key alphanumerically."
   ]
  },
  {
   "cell_type": "code",
   "execution_count": 43,
   "id": "e04e3dbb-7da7-4b8c-b48a-06fb5930e340",
   "metadata": {},
   "outputs": [
    {
     "name": "stdin",
     "output_type": "stream",
     "text": [
      "enter the string hi this is r this is r\n"
     ]
    },
    {
     "data": {
      "text/plain": [
       "{'hi': 1, 'this': 2, 'is': 2, 'r': 2}"
      ]
     },
     "execution_count": 43,
     "metadata": {},
     "output_type": "execute_result"
    }
   ],
   "source": [
    "def freq(str1):\n",
    "    \n",
    "    str2={}\n",
    "    for i in str1:\n",
    "        if i in str2:\n",
    "            str2[i] +=1\n",
    "        else:\n",
    "            str2[i] =1\n",
    "    return str2\n",
    "\n",
    "str1=input('enter the string').split(' ')\n",
    "freq(str1)"
   ]
  },
  {
   "cell_type": "markdown",
   "id": "6ae15b75-ad78-431f-8e79-cc399233be08",
   "metadata": {},
   "source": [
    "3. Define a class Person and its two child classes: Male and Female. All classes have a method \"getGender\" which can print \"Male\" for Male class and \"Female\" for Female class."
   ]
  },
  {
   "cell_type": "code",
   "execution_count": 50,
   "id": "c6eb652f-31dd-4d79-97ab-99f3dff0f086",
   "metadata": {},
   "outputs": [
    {
     "name": "stdout",
     "output_type": "stream",
     "text": [
      "Male\n",
      "Female\n"
     ]
    }
   ],
   "source": [
    "class Person:\n",
    "    def getGender(self):\n",
    "        pass\n",
    "    \n",
    "class male(Person):\n",
    "    def getGender(self):\n",
    "        print('Male')\n",
    "        \n",
    "class female(Person):\n",
    "    def getGender(self):\n",
    "        print('Female')\n",
    "male().getGender()\n",
    "female().getGender()"
   ]
  },
  {
   "cell_type": "markdown",
   "id": "93b459f6-fe40-40c8-85a1-abd307cb5d8f",
   "metadata": {},
   "source": [
    "4. Please write a program to generate all sentences where subject is in [\"I\", \"You\"] and verb is in ['Play', \"Love\"] and the object is in [\"Hockey\",\"Football\"]."
   ]
  },
  {
   "cell_type": "code",
   "execution_count": 56,
   "id": "be47ab40-31e0-4647-a5a6-5549c79ea431",
   "metadata": {},
   "outputs": [
    {
     "name": "stdout",
     "output_type": "stream",
     "text": [
      "I Play Hockey\n",
      "I Play Football\n",
      "I Love Hockey\n",
      "I Love Football\n",
      "You Play Hockey\n",
      "You Play Football\n",
      "You Love Hockey\n",
      "You Love Football\n"
     ]
    }
   ],
   "source": [
    "subject=[\"I\", \"You\"]\n",
    "verb=[\"Play\", \"Love\"]\n",
    "object1=[\"Hockey\",\"Football\"]\n",
    "output= []\n",
    "for i in subject:\n",
    "    for j in verb:\n",
    "        for k in object1:\n",
    "            output.append(i + \" \" + j + \" \" + k)\n",
    "for i in output:\n",
    "    print(i)"
   ]
  },
  {
   "cell_type": "markdown",
   "id": "cedcbfa9-7ae2-403e-ab4d-247878e53ed7",
   "metadata": {},
   "source": [
    "5. Please write a program to compress and decompress the string \"hello world!hello world!hello world!hello world!\""
   ]
  },
  {
   "cell_type": "code",
   "execution_count": 62,
   "id": "0a004715-8383-4fa8-934e-683b88ade27b",
   "metadata": {},
   "outputs": [
    {
     "name": "stdin",
     "output_type": "stream",
     "text": [
      "Enter the string hi this is inueron may i know who is this\n"
     ]
    },
    {
     "name": "stdout",
     "output_type": "stream",
     "text": [
      "Compressed string is: b'x\\x9c\\xcb\\xc8T(\\xc9\\xc8,V\\x00\\xa1\\xbc\\xd2\\xd4\\xa2\\xfc<\\x85\\xdc\\xc4J\\x85L\\x85\\xec\\xbc\\xfcr\\x85\\xf2\\x8c|\\x90\\x0cH\\x05\\x006\\xba\\x0e\\xd7'\n",
      "Decompressed string is: b'hi this is inueron may i know who is this'\n"
     ]
    }
   ],
   "source": [
    "import zlib\n",
    "str1 = input('Enter the string')\n",
    "com_str = zlib.compress(bytes(str1, 'utf-8'))\n",
    "decom_str=zlib.decompress(com_str)\n",
    "print(f\"Compressed string is: {com_str}\")\n",
    "print(f\"Decompressed string is: {decom_str}\")"
   ]
  },
  {
   "cell_type": "markdown",
   "id": "ca75e7c5-9e46-4875-bda2-223ee5d28bbf",
   "metadata": {},
   "source": [
    "6. Please write a binary search function which searches an item in a sorted list. The function should return the index of element to be searched in the list."
   ]
  },
  {
   "cell_type": "code",
   "execution_count": 99,
   "id": "aeb988b6-5020-4f49-8a1e-129ccdd519ff",
   "metadata": {},
   "outputs": [
    {
     "name": "stdin",
     "output_type": "stream",
     "text": [
      "enter number to search in list: 34\n"
     ]
    },
    {
     "name": "stdout",
     "output_type": "stream",
     "text": [
      "[4, 9, 11, 12, 22, 23, 34, 45, 56, 76, 88, 89, 90, 99, 111]\n",
      "Element is present at index 6\n"
     ]
    }
   ],
   "source": [
    "def binary(lst,n):\n",
    "    lst.sort()\n",
    "    print(lst)\n",
    "    low=0\n",
    "    high=len(lst)\n",
    "    mid =0\n",
    "    result=0\n",
    "    while low <= high:\n",
    "        mid =int((low+high)/2)\n",
    "        if lst[mid] < n:\n",
    "            low = mid+1\n",
    "        elif lst[mid] == n:\n",
    "            return mid\n",
    "        else:\n",
    "            high=mid-1\n",
    "    return -1\n",
    "lst=[12,56,89,4,9,23,11,90,22,111,34,76,45,88,99]\n",
    "n=int(input('enter number to search in list:'))\n",
    "result=binary(lst,n)\n",
    "\n",
    "if result != -1:  \n",
    "    print(\"Element is present at index\", str(result))  \n",
    "else:  \n",
    "    print(\"Element is not present in list1\")"
   ]
  },
  {
   "cell_type": "code",
   "execution_count": 94,
   "id": "94122eff-953d-4344-a241-77b6073f3a84",
   "metadata": {},
   "outputs": [
    {
     "data": {
      "text/plain": [
       "0"
      ]
     },
     "execution_count": 94,
     "metadata": {},
     "output_type": "execute_result"
    }
   ],
   "source": []
  },
  {
   "cell_type": "code",
   "execution_count": 88,
   "id": "f67923db-850d-46b1-8784-d2a8b525cdb7",
   "metadata": {},
   "outputs": [
    {
     "data": {
      "text/plain": [
       "3"
      ]
     },
     "execution_count": 88,
     "metadata": {},
     "output_type": "execute_result"
    }
   ],
   "source": [
    "\n"
   ]
  },
  {
   "cell_type": "code",
   "execution_count": null,
   "id": "9a662c4a-d35c-47e9-90e8-ba7cba330ddd",
   "metadata": {},
   "outputs": [],
   "source": []
  }
 ],
 "metadata": {
  "kernelspec": {
   "display_name": "Python 3 (ipykernel)",
   "language": "python",
   "name": "python3"
  },
  "language_info": {
   "codemirror_mode": {
    "name": "ipython",
    "version": 3
   },
   "file_extension": ".py",
   "mimetype": "text/x-python",
   "name": "python",
   "nbconvert_exporter": "python",
   "pygments_lexer": "ipython3",
   "version": "3.10.6"
  }
 },
 "nbformat": 4,
 "nbformat_minor": 5
}
