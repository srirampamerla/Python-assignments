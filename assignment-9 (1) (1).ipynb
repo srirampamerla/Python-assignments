{
 "cells": [
  {
   "cell_type": "markdown",
   "id": "5519b230-3b2c-4cc4-9924-41303927e8d8",
   "metadata": {},
   "source": [
    "1. Write a Python program to check if the given number is a Disarium Number?"
   ]
  },
  {
   "cell_type": "code",
   "execution_count": 1,
   "id": "c9e974ed-d1fb-4f74-9c68-e1282b07e0fd",
   "metadata": {},
   "outputs": [],
   "source": [
    "def Disarium(n):\n",
    "    num=0\n",
    "    num=n\n",
    "    try:\n",
    "        if n == 0:\n",
    "            raise Exception(\"Enter valid number greater than 0\")\n",
    "        else:\n",
    "            length=0\n",
    "            sum=0\n",
    "            rem=0\n",
    "            length = len(str(num))\n",
    "            while num >0:\n",
    "                rem = num %10\n",
    "                sum += rem ** length\n",
    "                num = num // 10\n",
    "                length= length -1\n",
    "                \n",
    "                \n",
    "        if(sum == n):\n",
    "            \n",
    "            #print(f\"{n} is a disarium Number\")\n",
    "            return True\n",
    "        else:\n",
    "            \n",
    "            #print(f\"{n} is not a disarium Number\")\n",
    "            return False\n",
    "        \n",
    "    except Exception as ex:\n",
    "        print(ex)\n",
    "        \n",
    "            \n",
    "            "
   ]
  },
  {
   "cell_type": "code",
   "execution_count": 2,
   "id": "46d8c6e9-2299-4ac6-a3fe-964f096ec114",
   "metadata": {},
   "outputs": [
    {
     "data": {
      "text/plain": [
       "False"
      ]
     },
     "execution_count": 2,
     "metadata": {},
     "output_type": "execute_result"
    }
   ],
   "source": [
    "n=147\n",
    "Disarium(n)"
   ]
  },
  {
   "cell_type": "code",
   "execution_count": 72,
   "id": "8760d30d-943f-4db0-bf46-220646adbe4c",
   "metadata": {},
   "outputs": [
    {
     "name": "stdout",
     "output_type": "stream",
     "text": [
      "175 is a disarium Number\n"
     ]
    }
   ],
   "source": [
    "n= 175\n",
    "Disarium(n)"
   ]
  },
  {
   "cell_type": "markdown",
   "id": "0160fb80-9eb7-4daf-be95-2b4dad6a7a3f",
   "metadata": {},
   "source": [
    "2. Write a Python program to print all disarium numbers between 1 to 100?"
   ]
  },
  {
   "cell_type": "code",
   "execution_count": 77,
   "id": "da9c6de3-ffb8-499c-976f-f8d714ef3b29",
   "metadata": {},
   "outputs": [
    {
     "name": "stdout",
     "output_type": "stream",
     "text": [
      "1 2 3 4 5 6 7 8 9 89 "
     ]
    }
   ],
   "source": [
    "for i in range(1,101):\n",
    "    if (Disarium(i) == True):\n",
    "        print(i,end = ' ')"
   ]
  },
  {
   "cell_type": "markdown",
   "id": "9c02905e-8e88-4700-b60d-f7f4a3eed588",
   "metadata": {},
   "source": [
    "\n",
    "3. Write a Python program to check if the given number is Happy Number?"
   ]
  },
  {
   "cell_type": "code",
   "execution_count": 36,
   "id": "f5d226a6-b230-4927-8d86-0ff7497d1f7c",
   "metadata": {},
   "outputs": [],
   "source": [
    "def Happy(num):\n",
    "    result=num\n",
    "    def Happynum(num):\n",
    "        rem = sum = 0\n",
    "        while num > 0 :\n",
    "            rem = num % 10\n",
    "            sum += (rem **2)\n",
    "            num = num // 10\n",
    "        \n",
    "        return sum;\n",
    "        \n",
    "    while(result != 1 and result != 4):\n",
    "        \n",
    "        result = Happynum(result)\n",
    "        \n",
    "        \n",
    "    if result == 1:\n",
    "        return True\n",
    "        print(f\"{num} is a happy number\")\n",
    "    else:\n",
    "        return False\n",
    "        print(f\"{num} is not a happy number\")"
   ]
  },
  {
   "cell_type": "code",
   "execution_count": 37,
   "id": "b98ec1e6-79b7-4758-bbf8-58382c731b8c",
   "metadata": {},
   "outputs": [
    {
     "data": {
      "text/plain": [
       "True"
      ]
     },
     "execution_count": 37,
     "metadata": {},
     "output_type": "execute_result"
    }
   ],
   "source": [
    "Happy(82)"
   ]
  },
  {
   "cell_type": "markdown",
   "id": "12380b63-c4d9-4ae7-a7e9-12a3fc5dac04",
   "metadata": {},
   "source": [
    "4. Write a Python program to print all happy numbers between 1 and 100?"
   ]
  },
  {
   "cell_type": "code",
   "execution_count": 11,
   "id": "3f9b80bb-51c1-4e5a-b227-c1392a3f586b",
   "metadata": {},
   "outputs": [
    {
     "name": "stdout",
     "output_type": "stream",
     "text": [
      "1 7 10 13 19 23 28 31 32 44 49 68 70 79 82 86 91 94 97 100 "
     ]
    }
   ],
   "source": [
    "for i in range(1,101):\n",
    "    if(Happy(i) == True):\n",
    "        print(i,end=' ')"
   ]
  },
  {
   "cell_type": "markdown",
   "id": "ba314b9c-f577-42a1-8ee7-eff6ca3ac1ee",
   "metadata": {},
   "source": [
    "5. Write a Python program to determine whether the given number is a Harshad Number?\n"
   ]
  },
  {
   "cell_type": "code",
   "execution_count": 38,
   "id": "54460aca-9cc7-40e9-a6f8-5a12a03dd58c",
   "metadata": {},
   "outputs": [],
   "source": [
    "def Harshad(num):\n",
    "    result = num\n",
    "    sum =0\n",
    "    rem = 0\n",
    "    while(num >0):\n",
    "        rem = num %10\n",
    "        sum += rem\n",
    "        num //= 10\n",
    "    if(num%result ==0):\n",
    "        return True\n",
    "    else:\n",
    "        return False"
   ]
  },
  {
   "cell_type": "code",
   "execution_count": 39,
   "id": "c764d0ee-9b83-4a9c-98b5-567c7c1bf10e",
   "metadata": {},
   "outputs": [
    {
     "data": {
      "text/plain": [
       "True"
      ]
     },
     "execution_count": 39,
     "metadata": {},
     "output_type": "execute_result"
    }
   ],
   "source": [
    "Harshad(111)"
   ]
  },
  {
   "cell_type": "markdown",
   "id": "c2ab5318-055c-473c-83a8-f4b8980e4d38",
   "metadata": {},
   "source": [
    "6. Write a Python program to print all pronic numbers between 1 and 100?"
   ]
  },
  {
   "cell_type": "code",
   "execution_count": 43,
   "id": "728b0065-3f19-4114-bb7f-29ee3023338d",
   "metadata": {},
   "outputs": [
    {
     "name": "stdout",
     "output_type": "stream",
     "text": [
      "0 2 6 12 20 30 42 56 72 90 "
     ]
    }
   ],
   "source": [
    "n=0\n",
    "while True:\n",
    "    i= n*(n+1)\n",
    "    n +=1\n",
    "    if i > 100:\n",
    "        break\n",
    "    print(i,end=' ')"
   ]
  },
  {
   "cell_type": "code",
   "execution_count": null,
   "id": "e30783b4-ec0e-49ab-b9e3-7698522879e0",
   "metadata": {},
   "outputs": [],
   "source": []
  }
 ],
 "metadata": {
  "kernelspec": {
   "display_name": "Python 3 (ipykernel)",
   "language": "python",
   "name": "python3"
  },
  "language_info": {
   "codemirror_mode": {
    "name": "ipython",
    "version": 3
   },
   "file_extension": ".py",
   "mimetype": "text/x-python",
   "name": "python",
   "nbconvert_exporter": "python",
   "pygments_lexer": "ipython3",
   "version": "3.10.6"
  }
 },
 "nbformat": 4,
 "nbformat_minor": 5
}
