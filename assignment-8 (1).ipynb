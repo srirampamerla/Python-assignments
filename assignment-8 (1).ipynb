{
 "cells": [
  {
   "cell_type": "markdown",
   "id": "c346dfa0-0473-4c15-bc19-8ad3f234a236",
   "metadata": {},
   "source": [
    "# Assignment-8"
   ]
  },
  {
   "cell_type": "markdown",
   "id": "20105a77-3952-4b3c-bb66-93762e9becac",
   "metadata": {},
   "source": [
    "1. Write a Python Program to Add Two Matrices?"
   ]
  },
  {
   "cell_type": "code",
   "execution_count": 37,
   "id": "6969bd2a-c9a7-4d41-a8af-33bd0a9a88e6",
   "metadata": {},
   "outputs": [],
   "source": [
    "# Program to add two matrices using nested loop\n",
    "\n",
    "X = [[12,7,3],\n",
    "    [4 ,5,6],\n",
    "    [7 ,8,9]]\n",
    "\n",
    "Y = [[5,8,1],\n",
    "    [6,7,3],\n",
    "    [4,5,9]]\n",
    "result=[[0,0,0],\n",
    "        [0,0,0],\n",
    "        [0,0,0]]"
   ]
  },
  {
   "cell_type": "code",
   "execution_count": 28,
   "id": "163f45b6-3bc9-4e32-bad0-aba3da10e64e",
   "metadata": {},
   "outputs": [
    {
     "name": "stdout",
     "output_type": "stream",
     "text": [
      "[17, 15, 4]\n",
      "[10, 12, 9]\n",
      "[11, 13, 18]\n"
     ]
    }
   ],
   "source": [
    "if len(X[0])==len(Y[0]):\n",
    "    for i in range(len(X)):\n",
    "        for j in range(len(X[0])):\n",
    "            result[i][j] = X[i][j]+Y[i][j]\n",
    "    for i in result:\n",
    "        print(i)\n",
    "else:\n",
    "    print(\"Enter same length of rows and columns\")"
   ]
  },
  {
   "cell_type": "markdown",
   "id": "4acb2bb5-f6e6-48f6-8dd2-1ab5bb29e992",
   "metadata": {},
   "source": [
    "2. Write a Python Program to Multiply Two Matrices?"
   ]
  },
  {
   "cell_type": "code",
   "execution_count": 39,
   "id": "16f392a9-f4a8-4644-b2ee-0dc30be527c3",
   "metadata": {},
   "outputs": [
    {
     "data": {
      "text/plain": [
       "[[60, 56, 3], [24, 35, 18], [28, 40, 81]]"
      ]
     },
     "execution_count": 39,
     "metadata": {},
     "output_type": "execute_result"
    }
   ],
   "source": [
    "\n",
    "for i in range(len(X)):\n",
    "    for j in range(len(X[0])):\n",
    "        result[i][j] = X[i][j]*Y[i][j]\n",
    "result"
   ]
  },
  {
   "cell_type": "markdown",
   "id": "5ad64760-d6b3-4a33-adba-5b2e41d20391",
   "metadata": {},
   "source": [
    "\n",
    "3. Write a Python Program to Transpose a Matrix?"
   ]
  },
  {
   "cell_type": "code",
   "execution_count": 43,
   "id": "e2a816ec-fb97-4655-bd98-549ae48e47ae",
   "metadata": {},
   "outputs": [
    {
     "name": "stdout",
     "output_type": "stream",
     "text": [
      "[12, 4, 7]\n",
      "[7, 5, 8]\n",
      "[3, 6, 9]\n",
      "[4, 1, 2]\n"
     ]
    }
   ],
   "source": [
    "X = [[12,7,3,4],\n",
    "    [4 ,5,6,1],\n",
    "    [7 ,8,9,2]]\n",
    "result=[[0,0,0],\n",
    "        [0,0,0],\n",
    "        [0,0,0],\n",
    "        [0,0,0]]\n",
    "for i in range(len(X)):\n",
    "    for j in range(len(X[0])):\n",
    "        result[j][i] = X[i][j]\n",
    "for i in result:\n",
    "    print(i)"
   ]
  },
  {
   "cell_type": "markdown",
   "id": "31bf39b9-e995-44e2-ad88-cb761b6ed3f7",
   "metadata": {},
   "source": [
    "4. Write a Python Program to Sort Words in Alphabetic Order?"
   ]
  },
  {
   "cell_type": "code",
   "execution_count": 59,
   "id": "1e10a4d7-b4ed-41f1-be21-d6b48024a157",
   "metadata": {},
   "outputs": [
    {
     "name": "stdin",
     "output_type": "stream",
     "text": [
      "Enter the string hi this is ineuron\n"
     ]
    },
    {
     "name": "stdout",
     "output_type": "stream",
     "text": [
      "hi\n",
      "ineuron\n",
      "is\n",
      "this\n"
     ]
    }
   ],
   "source": [
    "sentence=input('Enter the string')\n",
    "words=[word.lower() for word in sentence.split()]\n",
    "words.sort()\n",
    "for word in words:\n",
    "    print(word)\n",
    "\n",
    "#for word in words:\n",
    "#   print(word)"
   ]
  },
  {
   "cell_type": "markdown",
   "id": "5ccf01fc-baf7-413e-b781-b10045a7e923",
   "metadata": {},
   "source": [
    "5. Write a Python Program to Remove Punctuation From a String?"
   ]
  },
  {
   "cell_type": "code",
   "execution_count": 1,
   "id": "18d45c5b-fcc8-40d7-af31-9825112bd7dd",
   "metadata": {},
   "outputs": [
    {
     "name": "stdin",
     "output_type": "stream",
     "text": [
      "enter the string: ji!90$\n"
     ]
    },
    {
     "name": "stdout",
     "output_type": "stream",
     "text": [
      "ji90\n"
     ]
    }
   ],
   "source": [
    "punctations='''!()-[]{};:'\"\\,<>./?@#$%^&*_~'''\n",
    "string = input(\"enter the string:\")\n",
    "result=''\n",
    "for char in string:\n",
    "    if char not in punctations:\n",
    "        result +=char\n",
    "print(result)\n",
    "            "
   ]
  },
  {
   "cell_type": "code",
   "execution_count": null,
   "id": "24a1103f-7369-4345-bef5-db4d74f260cb",
   "metadata": {},
   "outputs": [],
   "source": []
  }
 ],
 "metadata": {
  "kernelspec": {
   "display_name": "Python 3 (ipykernel)",
   "language": "python",
   "name": "python3"
  },
  "language_info": {
   "codemirror_mode": {
    "name": "ipython",
    "version": 3
   },
   "file_extension": ".py",
   "mimetype": "text/x-python",
   "name": "python",
   "nbconvert_exporter": "python",
   "pygments_lexer": "ipython3",
   "version": "3.10.6"
  }
 },
 "nbformat": 4,
 "nbformat_minor": 5
}
