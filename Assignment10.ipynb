{
 "cells": [
  {
   "cell_type": "markdown",
   "id": "7bd72962-d9d6-4375-9950-b6bf08579a39",
   "metadata": {},
   "source": [
    "1. Write a Python program to find sum of elements in list?"
   ]
  },
  {
   "cell_type": "code",
   "execution_count": 4,
   "id": "69f4ec40-f34e-4725-9b36-78b20f141e62",
   "metadata": {},
   "outputs": [
    {
     "name": "stdout",
     "output_type": "stream",
     "text": [
      "279\n"
     ]
    }
   ],
   "source": [
    "l=[1,90,12,123,45,8]\n",
    "total =0\n",
    "for i in l:\n",
    "    total +=i\n",
    "print(total)"
   ]
  },
  {
   "cell_type": "markdown",
   "id": "7cddf9c6-df6c-414d-a1a6-c00f451a1f98",
   "metadata": {},
   "source": [
    "2. Write a Python program to Multiply all numbers in the list?"
   ]
  },
  {
   "cell_type": "code",
   "execution_count": 8,
   "id": "092f1527-19f4-41e4-b538-0825af5f8236",
   "metadata": {},
   "outputs": [
    {
     "name": "stdout",
     "output_type": "stream",
     "text": [
      "47822400\n"
     ]
    }
   ],
   "source": [
    "l=[1,90,12,123,45,8]\n",
    "total=1\n",
    "for i in l:\n",
    "    total *=i\n",
    "print(total)"
   ]
  },
  {
   "cell_type": "markdown",
   "id": "adf8a5dc-df7c-43a6-a423-88dc4bfc7232",
   "metadata": {},
   "source": [
    "3. Write a Python program to find smallest number in a list?"
   ]
  },
  {
   "cell_type": "code",
   "execution_count": 15,
   "id": "6c520310-2a2a-4e08-88fb-bd9e2771b4f1",
   "metadata": {},
   "outputs": [
    {
     "name": "stdout",
     "output_type": "stream",
     "text": [
      "7\n"
     ]
    }
   ],
   "source": [
    "l=[19,90,8,123,45,7]\n",
    "minimum=l[0]\n",
    "for i in l:\n",
    "    if i < minimum:\n",
    "        minimum=i\n",
    "print(minimum)"
   ]
  },
  {
   "cell_type": "markdown",
   "id": "f37ce3d5-5a00-4b68-850b-b09011b3be44",
   "metadata": {},
   "source": [
    "|4. Write a Python program to find largest number in a list?"
   ]
  },
  {
   "cell_type": "code",
   "execution_count": 17,
   "id": "d2ea63d4-fc65-46c8-82bc-0de6e95cbbd3",
   "metadata": {},
   "outputs": [
    {
     "name": "stdout",
     "output_type": "stream",
     "text": [
      "123\n"
     ]
    }
   ],
   "source": [
    "l=[19,90,8,123,45,7]\n",
    "maximum=l[0]\n",
    "for i in l:\n",
    "    if i > maximum:\n",
    "        maximum=i\n",
    "print(maximum)"
   ]
  },
  {
   "cell_type": "markdown",
   "id": "76a3b765-f653-4db1-b872-90097bdd7fa2",
   "metadata": {},
   "source": [
    "5. Write a Python program to find second largest number in a list?"
   ]
  },
  {
   "cell_type": "code",
   "execution_count": 24,
   "id": "39a7100a-3c55-4990-8123-20476793b8b4",
   "metadata": {},
   "outputs": [
    {
     "name": "stdout",
     "output_type": "stream",
     "text": [
      "90\n"
     ]
    }
   ],
   "source": [
    "l=[19,90,8,123,45,7]\n",
    "l2=list(set(l))\n",
    "l2.sort()\n",
    "print(l2[-2])"
   ]
  },
  {
   "cell_type": "code",
   "execution_count": 25,
   "id": "db8dd6a4-6ece-43c4-a548-a44859f341e8",
   "metadata": {},
   "outputs": [
    {
     "name": "stdout",
     "output_type": "stream",
     "text": [
      "90\n"
     ]
    }
   ],
   "source": [
    "print(sorted(l)[-2])"
   ]
  },
  {
   "cell_type": "markdown",
   "id": "5d645c23-3ef3-4c41-9a95-b0c144219a1c",
   "metadata": {},
   "source": [
    "6. Write a Python program to find N largest elements from a list?"
   ]
  },
  {
   "cell_type": "code",
   "execution_count": 44,
   "id": "210b0d87-2bd6-4eff-ae9d-ff87c2417141",
   "metadata": {},
   "outputs": [],
   "source": [
    "def largelst(lst,n):\n",
    "    lst.sort()\n",
    "    return lst[n]"
   ]
  },
  {
   "cell_type": "code",
   "execution_count": 45,
   "id": "8a3fa00a-97ad-45d8-934c-13657f6c9dae",
   "metadata": {},
   "outputs": [
    {
     "data": {
      "text/plain": [
       "90"
      ]
     },
     "execution_count": 45,
     "metadata": {},
     "output_type": "execute_result"
    }
   ],
   "source": [
    "largelst(l,-2)"
   ]
  },
  {
   "cell_type": "code",
   "execution_count": 46,
   "id": "73636788-6245-42ca-b184-6d56b20a587e",
   "metadata": {},
   "outputs": [
    {
     "data": {
      "text/plain": [
       "90"
      ]
     },
     "execution_count": 46,
     "metadata": {},
     "output_type": "execute_result"
    }
   ],
   "source": [
    "largelst(l,-2)"
   ]
  },
  {
   "cell_type": "code",
   "execution_count": 47,
   "id": "1f50f8e4-53fb-43d0-9a64-2a3e0b0735be",
   "metadata": {},
   "outputs": [],
   "source": [
    "def largelst(lst,n):\n",
    "    lst.sort(reverse = True)\n",
    "    return lst[n-1]"
   ]
  },
  {
   "cell_type": "code",
   "execution_count": 48,
   "id": "8f03d380-d5ef-4129-90aa-97b9cd817dfb",
   "metadata": {},
   "outputs": [
    {
     "data": {
      "text/plain": [
       "19"
      ]
     },
     "execution_count": 48,
     "metadata": {},
     "output_type": "execute_result"
    }
   ],
   "source": [
    "largelst(l,-2)"
   ]
  },
  {
   "cell_type": "markdown",
   "id": "17e05159-b476-4d0f-a81a-71238373823b",
   "metadata": {},
   "source": [
    "\n",
    "7. Write a Python program to print even numbers in a list?"
   ]
  },
  {
   "cell_type": "code",
   "execution_count": 51,
   "id": "3b79daae-c476-4c2d-82e8-a4d337ba18da",
   "metadata": {},
   "outputs": [
    {
     "name": "stdout",
     "output_type": "stream",
     "text": [
      "8\n",
      "90\n"
     ]
    }
   ],
   "source": [
    "for i in sorted(l):\n",
    "    if(i%2==0):\n",
    "        print(i)"
   ]
  },
  {
   "cell_type": "markdown",
   "id": "562a2f92-46cb-4fa8-851c-a5e8110d778b",
   "metadata": {},
   "source": [
    "8. Write a Python program to print odd numbers in a List?"
   ]
  },
  {
   "cell_type": "code",
   "execution_count": 53,
   "id": "13cfe85d-2126-4a62-9526-1e6532216ffb",
   "metadata": {},
   "outputs": [
    {
     "name": "stdout",
     "output_type": "stream",
     "text": [
      "7\n",
      "19\n",
      "45\n",
      "123\n"
     ]
    }
   ],
   "source": [
    "for i in sorted(l):\n",
    "    if(i%2!=0):\n",
    "        print(i)"
   ]
  },
  {
   "cell_type": "markdown",
   "id": "3040292e-a6b2-4043-8295-752cda462788",
   "metadata": {},
   "source": [
    "9. Write a Python program to Remove empty List from List?"
   ]
  },
  {
   "cell_type": "code",
   "execution_count": 58,
   "id": "45ca3be1-8186-4719-8c71-5345be340556",
   "metadata": {},
   "outputs": [],
   "source": [
    "l=[[],12,12,[12,23,1]]"
   ]
  },
  {
   "cell_type": "code",
   "execution_count": 74,
   "id": "b64d6433-5e28-477d-a6d2-f01abd0323eb",
   "metadata": {},
   "outputs": [],
   "source": [
    "l=[[],12,12,[12,23,1]]\n",
    "result =[]\n",
    "for i in l:\n",
    "    if type(i) == list:\n",
    "        if len(i) != 0:\n",
    "            result.append(i)\n",
    "    else:\n",
    "        result.append(i)"
   ]
  },
  {
   "cell_type": "code",
   "execution_count": 75,
   "id": "efa41a94-66ac-459e-a35a-d7544f3099e9",
   "metadata": {},
   "outputs": [
    {
     "name": "stdout",
     "output_type": "stream",
     "text": [
      "[12, 12, [12, 23, 1]]\n"
     ]
    }
   ],
   "source": [
    "print(result)"
   ]
  },
  {
   "cell_type": "markdown",
   "id": "d635143d-5800-428b-bb09-f74e97b65015",
   "metadata": {},
   "source": [
    "10. Write a Python program to Cloning or Copying a list?"
   ]
  },
  {
   "cell_type": "code",
   "execution_count": 89,
   "id": "7a2043bc-28dc-4ee3-badf-01ee8adb9245",
   "metadata": {},
   "outputs": [
    {
     "name": "stdout",
     "output_type": "stream",
     "text": [
      "[[], 12, 12, [12, 23, 1]]\n"
     ]
    }
   ],
   "source": [
    "l=[[],12,12,[12,23,1]]\n",
    "l4=[]\n",
    "for i in l:\n",
    "    l4.append(i)\n",
    "print(l4)"
   ]
  },
  {
   "cell_type": "markdown",
   "id": "4c41c0cc-e672-4923-a309-8ba472675c6e",
   "metadata": {},
   "source": [
    "11. Write a Python program to Count occurrences of an element in a list?"
   ]
  },
  {
   "cell_type": "code",
   "execution_count": 93,
   "id": "bfdbb65e-4e49-4318-84c2-174088fa1122",
   "metadata": {},
   "outputs": [],
   "source": [
    "l=[[],12,12,[12,23,1]]\n",
    "def occur(l,number):\n",
    "    count=0\n",
    "    for i in l:\n",
    "        if i==number:\n",
    "            count +=1\n",
    "    return count"
   ]
  },
  {
   "cell_type": "code",
   "execution_count": 96,
   "id": "d618b6be-6082-4110-a06e-401bf140a566",
   "metadata": {},
   "outputs": [
    {
     "data": {
      "text/plain": [
       "2"
      ]
     },
     "execution_count": 96,
     "metadata": {},
     "output_type": "execute_result"
    }
   ],
   "source": [
    "occur(l,12)"
   ]
  },
  {
   "cell_type": "code",
   "execution_count": null,
   "id": "1dcc88f2-a9f1-4cda-b85d-40e10f47c144",
   "metadata": {},
   "outputs": [],
   "source": []
  }
 ],
 "metadata": {
  "kernelspec": {
   "display_name": "Python 3 (ipykernel)",
   "language": "python",
   "name": "python3"
  },
  "language_info": {
   "codemirror_mode": {
    "name": "ipython",
    "version": 3
   },
   "file_extension": ".py",
   "mimetype": "text/x-python",
   "name": "python",
   "nbconvert_exporter": "python",
   "pygments_lexer": "ipython3",
   "version": "3.10.6"
  }
 },
 "nbformat": 4,
 "nbformat_minor": 5
}
