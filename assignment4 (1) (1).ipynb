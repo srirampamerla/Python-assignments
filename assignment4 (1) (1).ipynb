{
 "cells": [
  {
   "cell_type": "markdown",
   "id": "6b14fa8b-cc9b-4ed2-8d41-862d972ca6f0",
   "metadata": {},
   "source": [
    "# Assignment-4"
   ]
  },
  {
   "cell_type": "markdown",
   "id": "51567288-2479-417d-940f-6710ed2207d1",
   "metadata": {},
   "source": [
    "1. Write a Python Program to Find the Factorial of a Number?\n"
   ]
  },
  {
   "cell_type": "markdown",
   "id": "cadb28e5-f389-4b58-9f65-efcb1164e15e",
   "metadata": {},
   "source": [
    "sol:"
   ]
  },
  {
   "cell_type": "code",
   "execution_count": 47,
   "id": "204e890e-d97f-4355-9131-8feb5849a7f1",
   "metadata": {},
   "outputs": [
    {
     "name": "stdin",
     "output_type": "stream",
     "text": [
      "enter a number: 3\n"
     ]
    },
    {
     "name": "stdout",
     "output_type": "stream",
     "text": [
      "3!=6\n"
     ]
    }
   ],
   "source": [
    "def fact(n):\n",
    "    if n ==1:\n",
    "        return 1\n",
    "    else:\n",
    "        return(n*fact(n-1))\n",
    "        \n",
    "        #return(n*fact(n-1))\n",
    "        \n",
    "num=int(input('enter a number:'))\n",
    "result=fact(num)\n",
    "print(f'{num}!={result}')"
   ]
  },
  {
   "cell_type": "markdown",
   "id": "6d7196bc-21e3-4887-a7cb-f715357e7ed8",
   "metadata": {},
   "source": [
    "2. Write a Python Program to Display the multiplication Table?"
   ]
  },
  {
   "cell_type": "markdown",
   "id": "fa5c72fe-beb1-4ac5-8f86-bcfed9c51a66",
   "metadata": {},
   "source": [
    "sol:\n"
   ]
  },
  {
   "cell_type": "code",
   "execution_count": 49,
   "id": "0bd2ae0a-e760-4724-9c03-9c2bd0525218",
   "metadata": {},
   "outputs": [
    {
     "name": "stdin",
     "output_type": "stream",
     "text": [
      "enter a number: 3\n"
     ]
    },
    {
     "name": "stdout",
     "output_type": "stream",
     "text": [
      "3*1=3\n",
      "3*2=6\n",
      "3*3=9\n",
      "3*4=12\n",
      "3*5=15\n",
      "3*6=18\n",
      "3*7=21\n",
      "3*8=24\n",
      "3*9=27\n"
     ]
    }
   ],
   "source": [
    "def multi(n):\n",
    "    for i in range(1,10):\n",
    "        print(f\"{n}*{i}={n*i}\")\n",
    "num = int(input('enter a number:'))\n",
    "multi(num)"
   ]
  },
  {
   "cell_type": "markdown",
   "id": "40df7ae7-d3ee-4cbc-96b3-7fed25580654",
   "metadata": {},
   "source": [
    "3. Write a Python Program to Print the Fibonacci sequence?"
   ]
  },
  {
   "cell_type": "code",
   "execution_count": 6,
   "id": "a72bebfd-0b20-4600-a301-27df85ccd207",
   "metadata": {},
   "outputs": [
    {
     "name": "stdin",
     "output_type": "stream",
     "text": [
      "Number of series u needed 5\n"
     ]
    },
    {
     "name": "stdout",
     "output_type": "stream",
     "text": [
      "0 1 1 2 3 "
     ]
    }
   ],
   "source": [
    "def fib(n):\n",
    "    a=0\n",
    "    b=1\n",
    "    print(a,end=' ')\n",
    "    print(b,end=' ')\n",
    "    sum=0\n",
    "    if n <=0:\n",
    "        print(\"enter a +ve number\")\n",
    "    elif(n ==1):\n",
    "        print(a)\n",
    "    else:\n",
    "        while(n-2>0):\n",
    "            c=a+b\n",
    "            print(c,end=' ')\n",
    "            a=b\n",
    "            b=c\n",
    "            n=n-1\n",
    "num=int(input('Number of series u needed'))\n",
    "fib(num)\n",
    "        "
   ]
  },
  {
   "cell_type": "markdown",
   "id": "b9aed171-3b4c-4132-8500-435287c4fc75",
   "metadata": {},
   "source": [
    "4. Write a Python Program to Check Armstrong Number?"
   ]
  },
  {
   "cell_type": "code",
   "execution_count": 2,
   "id": "467c3798-11ca-455b-ac89-fd5d522d2c81",
   "metadata": {},
   "outputs": [
    {
     "name": "stdin",
     "output_type": "stream",
     "text": [
      "Enter the number: 153\n"
     ]
    },
    {
     "name": "stdout",
     "output_type": "stream",
     "text": [
      "153 it is armstrong number\n"
     ]
    }
   ],
   "source": [
    "def arm(num):\n",
    "    l=len(str(num))\n",
    "    sum=0\n",
    "    temp=num\n",
    "    while temp > 0:\n",
    "        #print(temp)\n",
    "        d = temp%10\n",
    "        sum =sum+(d**l)\n",
    "        #print(sum)\n",
    "        temp=temp//10\n",
    "    if(sum == num):\n",
    "        print(f\"{num} it is armstrong number\")\n",
    "    else:\n",
    "        print(f\"{num} it is not armstrong number\")\n",
    "number=int(input('Enter the number:'))\n",
    "arm(number)"
   ]
  },
  {
   "cell_type": "markdown",
   "id": "b570f6e7-d3c9-43e9-acfd-0acff1df4932",
   "metadata": {},
   "source": [
    "5. Write a Python Program to Find Armstrong Number in an Interval?"
   ]
  },
  {
   "cell_type": "code",
   "execution_count": 5,
   "id": "812bd99a-2c8e-4b92-a91f-186b58459797",
   "metadata": {},
   "outputs": [
    {
     "name": "stdin",
     "output_type": "stream",
     "text": [
      "Enter the starting range 45\n",
      "enter the last range 1000\n"
     ]
    },
    {
     "name": "stdout",
     "output_type": "stream",
     "text": [
      "Starting range:45 and last range:1000\n",
      "153 370 371 407 "
     ]
    }
   ],
   "source": [
    "def arm(num):\n",
    "    l=len(str(num))\n",
    "    sum=0\n",
    "    temp=num\n",
    "    while temp > 0:\n",
    "        d = temp%10\n",
    "        sum =sum+(d**l)\n",
    "        temp=temp//10\n",
    "    if(sum == num):\n",
    "        return 1\n",
    "    else:\n",
    "        return 0\n",
    "low=int(input('Enter the starting range'))\n",
    "high=int(input('enter the last range'))\n",
    "print(f\"Starting range:{low} and last range:{high}\")\n",
    "for i in range(low,high+1):\n",
    "    if(arm(i)):\n",
    "        print(i,end=' ')"
   ]
  },
  {
   "cell_type": "markdown",
   "id": "ee908600-7f8d-4343-9bf9-fe736f09cd52",
   "metadata": {},
   "source": [
    "6. Write a Python Program to Find the Sum of Natural Numbers?"
   ]
  },
  {
   "cell_type": "code",
   "execution_count": 7,
   "id": "03b56d3e-281b-487f-b40b-fd71b00b7711",
   "metadata": {},
   "outputs": [
    {
     "name": "stdin",
     "output_type": "stream",
     "text": [
      "Enter the number: 10\n"
     ]
    },
    {
     "data": {
      "text/plain": [
       "'sum of 10 natural numbers is 55'"
      ]
     },
     "execution_count": 7,
     "metadata": {},
     "output_type": "execute_result"
    }
   ],
   "source": [
    "def natural(num):\n",
    "    total_sum=0\n",
    "    for i in range(1,num+1):\n",
    "        total_sum +=i\n",
    "    return(f\"sum of {num} natural numbers is {total_sum}\")\n",
    "number=int(input('Enter the number:'))\n",
    "natural(number)   "
   ]
  },
  {
   "cell_type": "code",
   "execution_count": null,
   "id": "8c98bc50-89fb-43e3-9bd9-2d240817553a",
   "metadata": {},
   "outputs": [],
   "source": []
  }
 ],
 "metadata": {
  "kernelspec": {
   "display_name": "Python 3 (ipykernel)",
   "language": "python",
   "name": "python3"
  },
  "language_info": {
   "codemirror_mode": {
    "name": "ipython",
    "version": 3
   },
   "file_extension": ".py",
   "mimetype": "text/x-python",
   "name": "python",
   "nbconvert_exporter": "python",
   "pygments_lexer": "ipython3",
   "version": "3.10.6"
  }
 },
 "nbformat": 4,
 "nbformat_minor": 5
}
