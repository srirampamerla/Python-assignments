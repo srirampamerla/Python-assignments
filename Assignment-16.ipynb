{
 "cells": [
  {
   "cell_type": "markdown",
   "id": "403444e5-3976-4af3-ab16-addddbe3e4a6",
   "metadata": {},
   "source": [
    "1. Write a function that stutters a word as if someone is struggling to read it. The first two letters are repeated twice with an ellipsis ... and space after each, and then the word is pronounced with a question mark ?. Examples stutter('incredible') ➞ 'in... in... incredible?' stutter('enthusiastic') ➞ 'en... en... enthusiastic?' stutter('outstanding') ➞ 'ou... ou... outstanding?'\n",
    "## Hint :- Assume all input is in lower case and at least two characters long."
   ]
  },
  {
   "cell_type": "code",
   "execution_count": 1,
   "id": "4d509e11-6d51-44c0-8ac7-2da9d5e70848",
   "metadata": {},
   "outputs": [],
   "source": [
    "def stutter(word:str):\n",
    "    print(f\"{word[:2]}... {word[:2]}... {word}?\")"
   ]
  },
  {
   "cell_type": "code",
   "execution_count": 2,
   "id": "09769fb5-455c-47f7-a9ca-dc177dfc3895",
   "metadata": {},
   "outputs": [
    {
     "name": "stdout",
     "output_type": "stream",
     "text": [
      "in... in... incredible?\n",
      "en... en... enthusiastic?\n",
      "ou... ou... outstanding?\n"
     ]
    }
   ],
   "source": [
    "stutter('incredible')\n",
    "stutter('enthusiastic')\n",
    "stutter('outstanding')"
   ]
  },
  {
   "cell_type": "markdown",
   "id": "15c25909-f842-456a-92a3-f484f1b438d7",
   "metadata": {},
   "source": [
    "2. Create a function that takes an angle in radians and returns the corresponding angle in degrees rounded to one decimal place."
   ]
  },
  {
   "cell_type": "code",
   "execution_count": 22,
   "id": "e932eff7-4b4b-44e9-823d-aa43a0213c25",
   "metadata": {},
   "outputs": [],
   "source": [
    "def Radians_Degrees(radain):\n",
    "    print(\"Radians to Degrees\")\n",
    "    return(f\"{radain}rad={round(57.295779513 * radain, 1)}°\")"
   ]
  },
  {
   "cell_type": "code",
   "execution_count": 23,
   "id": "1e550a60-a4db-4ee1-b226-baee6d097d9b",
   "metadata": {},
   "outputs": [
    {
     "name": "stdout",
     "output_type": "stream",
     "text": [
      "Radians to Degrees\n"
     ]
    },
    {
     "data": {
      "text/plain": [
       "'500rad=28647.9°'"
      ]
     },
     "execution_count": 23,
     "metadata": {},
     "output_type": "execute_result"
    }
   ],
   "source": [
    "Radians_Degrees(500)"
   ]
  },
  {
   "cell_type": "markdown",
   "id": "aee7db8c-b9ca-4c75-a4df-8377e204bb42",
   "metadata": {},
   "source": [
    "3. In this challenge, establish if a given integer num is a Curzon number. If 1 plus 2 elevated to num is exactly divisible by 1 plus 2 multiplied by num, then num is a Curzon number. Given a non-negative integer num, implement a function that returns True if num is a Curzon number, or False otherwise"
   ]
  },
  {
   "cell_type": "code",
   "execution_count": 30,
   "id": "7f58f02c-1a9b-41d4-9d11-d1777ee691a3",
   "metadata": {},
   "outputs": [],
   "source": [
    "def curzon(n):\n",
    "    if ((1 + 2 ** n) % (1 + 2 * n) == 0):\n",
    "        return True\n",
    "    else:\n",
    "        return False\n"
   ]
  },
  {
   "cell_type": "code",
   "execution_count": 31,
   "id": "63feff82-e841-4c49-8f1d-3a6a01ce669f",
   "metadata": {},
   "outputs": [
    {
     "data": {
      "text/plain": [
       "False"
      ]
     },
     "execution_count": 31,
     "metadata": {},
     "output_type": "execute_result"
    }
   ],
   "source": [
    "curzon(10)"
   ]
  },
  {
   "cell_type": "code",
   "execution_count": 32,
   "id": "16fad24f-6060-4642-9ba8-f682e1cd91a2",
   "metadata": {},
   "outputs": [
    {
     "data": {
      "text/plain": [
       "False"
      ]
     },
     "execution_count": 32,
     "metadata": {},
     "output_type": "execute_result"
    }
   ],
   "source": [
    "curzon(16)"
   ]
  },
  {
   "cell_type": "code",
   "execution_count": 33,
   "id": "5570f623-4a82-4e6a-977e-70d0427241b3",
   "metadata": {},
   "outputs": [
    {
     "data": {
      "text/plain": [
       "True"
      ]
     },
     "execution_count": 33,
     "metadata": {},
     "output_type": "execute_result"
    }
   ],
   "source": [
    "curzon(14)"
   ]
  },
  {
   "cell_type": "markdown",
   "id": "c30df261-2210-42e3-ab34-8b6c96435353",
   "metadata": {},
   "source": [
    "4. Given the side length x find the area of a hexagon."
   ]
  },
  {
   "cell_type": "code",
   "execution_count": 35,
   "id": "86b7486f-0a2e-4ee7-aace-6f5a20ac592f",
   "metadata": {},
   "outputs": [],
   "source": [
    "import math\n",
    "def area_hexagon(l):\n",
    "    area =  3 * math.sqrt(3) * 0.5 * l * l\n",
    "    return round(area, 2)\n"
   ]
  },
  {
   "cell_type": "code",
   "execution_count": 36,
   "id": "f58ce3bb-7489-42ea-8acd-a6fe006a8aa7",
   "metadata": {},
   "outputs": [
    {
     "data": {
      "text/plain": [
       "259.81"
      ]
     },
     "execution_count": 36,
     "metadata": {},
     "output_type": "execute_result"
    }
   ],
   "source": [
    "area_hexagon(10)"
   ]
  },
  {
   "cell_type": "code",
   "execution_count": 38,
   "id": "0c214651-3468-427d-9569-33db78067f2d",
   "metadata": {},
   "outputs": [
    {
     "data": {
      "text/plain": [
       "2.6"
      ]
     },
     "execution_count": 38,
     "metadata": {},
     "output_type": "execute_result"
    }
   ],
   "source": [
    "area_hexagon(1)"
   ]
  },
  {
   "cell_type": "markdown",
   "id": "832f9411-df3b-40e6-a7ae-0f8aeef8864d",
   "metadata": {},
   "source": [
    "5. Create a function that returns a base-2 (binary) representation of a base-10 (decimal) string number. To convert is simple: ((2) means base-2 and (10) means base-10) 010101001(2) = 1 + 8 + 32 + 128."
   ]
  },
  {
   "cell_type": "code",
   "execution_count": 41,
   "id": "1669f6d4-d9cf-440d-b4f9-87b28399f5d7",
   "metadata": {},
   "outputs": [],
   "source": [
    "def bin1(n):\n",
    "    return \"{0:b}\".format(int(n))"
   ]
  },
  {
   "cell_type": "code",
   "execution_count": 45,
   "id": "d2702cbf-2967-4e25-8918-3ea6b0dfc1bf",
   "metadata": {},
   "outputs": [
    {
     "data": {
      "text/plain": [
       "'10101001'"
      ]
     },
     "execution_count": 45,
     "metadata": {},
     "output_type": "execute_result"
    }
   ],
   "source": [
    "bin1(169)"
   ]
  },
  {
   "cell_type": "code",
   "execution_count": 50,
   "id": "aef70eb3-290f-49df-8886-d208ee60bae5",
   "metadata": {},
   "outputs": [
    {
     "name": "stdin",
     "output_type": "stream",
     "text": [
      "enter the number to change to binary: 8\n"
     ]
    },
    {
     "name": "stdout",
     "output_type": "stream",
     "text": [
      "1000\n"
     ]
    }
   ],
   "source": [
    "n=int(input('enter the number to change to binary:'))\n",
    "Bin  = bin(n)     \n",
    "print(Bin)         \n"
   ]
  },
  {
   "cell_type": "code",
   "execution_count": 51,
   "id": "3de45078-84a5-4acf-993d-269364ce3dac",
   "metadata": {},
   "outputs": [
    {
     "data": {
      "text/plain": [
       "8"
      ]
     },
     "execution_count": 51,
     "metadata": {},
     "output_type": "execute_result"
    }
   ],
   "source": [
    "int(Bin, base = 2) "
   ]
  },
  {
   "cell_type": "code",
   "execution_count": null,
   "id": "ca6c09ec-9522-4a6d-85b6-6524227025b3",
   "metadata": {},
   "outputs": [],
   "source": []
  }
 ],
 "metadata": {
  "kernelspec": {
   "display_name": "Python 3 (ipykernel)",
   "language": "python",
   "name": "python3"
  },
  "language_info": {
   "codemirror_mode": {
    "name": "ipython",
    "version": 3
   },
   "file_extension": ".py",
   "mimetype": "text/x-python",
   "name": "python",
   "nbconvert_exporter": "python",
   "pygments_lexer": "ipython3",
   "version": "3.10.6"
  }
 },
 "nbformat": 4,
 "nbformat_minor": 5
}
