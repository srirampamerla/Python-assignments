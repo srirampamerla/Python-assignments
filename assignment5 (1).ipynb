{
 "cells": [
  {
   "cell_type": "markdown",
   "id": "38a5354c-6264-4a42-8fb8-6a62a1960312",
   "metadata": {},
   "source": [
    "# Assignment-5"
   ]
  },
  {
   "cell_type": "markdown",
   "id": "aea87427-6e23-402d-826d-ba0c0ee9f132",
   "metadata": {},
   "source": [
    "1. Write a Python Program to Find LCM?"
   ]
  },
  {
   "cell_type": "code",
   "execution_count": 3,
   "id": "88514551-5459-4600-82b4-1044441625c4",
   "metadata": {},
   "outputs": [
    {
     "name": "stdin",
     "output_type": "stream",
     "text": [
      "enter the first number for LCM: 3\n",
      "enter the second number for LCM : 4\n"
     ]
    },
    {
     "data": {
      "text/plain": [
       "12"
      ]
     },
     "execution_count": 3,
     "metadata": {},
     "output_type": "execute_result"
    }
   ],
   "source": [
    "def lcm(a,b):\n",
    "    if a > b:\n",
    "        greater = a\n",
    "    else:\n",
    "        greater = b\n",
    "    while(True):\n",
    "        if(greater % a == 0 ) and (greater % b ==0):\n",
    "            LCM=greater\n",
    "            break\n",
    "        greater +=1\n",
    "    return LCM\n",
    "m=int(input('enter the first number for LCM:'))\n",
    "n=int(input('enter the second number for LCM :'))\n",
    "lcm(m,n)\n",
    "        \n",
    "            "
   ]
  },
  {
   "cell_type": "markdown",
   "id": "f6a45c7a-fe71-40bb-81ca-3fbc9cce8e8c",
   "metadata": {},
   "source": [
    "2. Write a Python Program to Find HCF?"
   ]
  },
  {
   "cell_type": "code",
   "execution_count": 7,
   "id": "ae79d506-4263-442f-87a3-581c3d2d2ec9",
   "metadata": {},
   "outputs": [
    {
     "name": "stdin",
     "output_type": "stream",
     "text": [
      "enter the first number for HCF: 8\n",
      "enter the second number for HCF: 12\n"
     ]
    },
    {
     "data": {
      "text/plain": [
       "4"
      ]
     },
     "execution_count": 7,
     "metadata": {},
     "output_type": "execute_result"
    }
   ],
   "source": [
    "def hcf(a,b):\n",
    "    if a > b:\n",
    "        small = b\n",
    "    else:\n",
    "        small = a\n",
    "    for i in range(1,small+1):\n",
    "        if(a%i ==0 and b%i==0):\n",
    "            HCF=i\n",
    "    return HCF\n",
    "m=int(input('enter the first number for HCF:'))\n",
    "n=int(input('enter the second number for HCF:'))\n",
    "hcf(m,n)\n",
    "        "
   ]
  },
  {
   "cell_type": "markdown",
   "id": "09bfb10e-bf56-4bc9-9547-4b66d2670bae",
   "metadata": {},
   "source": [
    "3. Write a Python Program to Convert Decimal to Binary, Octal and Hexadecimal?"
   ]
  },
  {
   "cell_type": "code",
   "execution_count": 24,
   "id": "efac2ddf-dacf-404e-9f6f-131124ee2e83",
   "metadata": {},
   "outputs": [
    {
     "name": "stdin",
     "output_type": "stream",
     "text": [
      "enter the decimal value for convert: 12\n"
     ]
    },
    {
     "name": "stdout",
     "output_type": "stream",
     "text": [
      "Binary value for 12 0b1100\n",
      "Octal value for 12 0o14\n",
      "Hexa decimal value for 12 0xc\n"
     ]
    }
   ],
   "source": [
    "try:\n",
    "    def convert(n):\n",
    "        print(f'Binary value for {n}',bin(n))\n",
    "        print(f'Octal value for {n}',oct(n))\n",
    "        print(f'Hexa decimal value for {n}',hex(n))\n",
    "except exception as ex:\n",
    "    print(ex)\n",
    "m=int(input('enter the decimal value for convert:'))\n",
    "convert(m)\n"
   ]
  },
  {
   "cell_type": "markdown",
   "id": "3cc51910-4f4a-4c0e-ad6b-10a13ec9cde0",
   "metadata": {},
   "source": [
    "4. Write a Python Program To Find ASCII value of a character?"
   ]
  },
  {
   "cell_type": "code",
   "execution_count": 15,
   "id": "21df3abf-95b9-430b-8602-5e5719da21ec",
   "metadata": {},
   "outputs": [
    {
     "name": "stdin",
     "output_type": "stream",
     "text": [
      "enter the character: a\n"
     ]
    },
    {
     "name": "stdout",
     "output_type": "stream",
     "text": [
      "Ascii value for a is 97\n"
     ]
    }
   ],
   "source": [
    "try:\n",
    "    char=input('enter the character:')\n",
    "    Ascii=ord(char)\n",
    "    print(f'Ascii value for {char} is {Ascii}')\n",
    "except exception as ex:\n",
    "    print(ex)"
   ]
  },
  {
   "cell_type": "code",
   "execution_count": 22,
   "id": "3a4872e8-3f51-4db0-81cb-e4040a704333",
   "metadata": {},
   "outputs": [
    {
     "name": "stdin",
     "output_type": "stream",
     "text": [
      "enter the string: ineuron\n"
     ]
    },
    {
     "name": "stdout",
     "output_type": "stream",
     "text": [
      "i \t 105\n",
      "n \t 110\n",
      "e \t 101\n",
      "u \t 117\n",
      "r \t 114\n",
      "o \t 111\n",
      "n \t 110\n"
     ]
    }
   ],
   "source": [
    "try:\n",
    "    string=input('enter the string:')\n",
    "    for i in string:\n",
    "        Ascii=ord(i)\n",
    "        print(i,'\\t',Ascii)\n",
    "except exception as ex:\n",
    "    print(ex)"
   ]
  },
  {
   "cell_type": "markdown",
   "id": "f695b254-4ea7-44d9-a855-25a1605015e4",
   "metadata": {},
   "source": [
    "5. Write a Python Program to Make a Simple Calculator with 4 basic mathematical operations?"
   ]
  },
  {
   "cell_type": "code",
   "execution_count": null,
   "id": "3f0646f8-15ef-45e8-9f9f-e678a2e66b32",
   "metadata": {},
   "outputs": [
    {
     "name": "stdin",
     "output_type": "stream",
     "text": [
      "enter 1st number: 2\n",
      "enter 2nd number: 3\n"
     ]
    },
    {
     "name": "stdout",
     "output_type": "stream",
     "text": [
      "choose the correct below option for calculation\n",
      "For addition pls enter option a\n",
      "For subtraction pls enter option b\n",
      "For multiplication pls enter option c\n",
      "For division pls enter option d\n",
      "For exit pls enter exit\n"
     ]
    },
    {
     "name": "stdin",
     "output_type": "stream",
     "text": [
      "enter the option a\n"
     ]
    },
    {
     "name": "stdout",
     "output_type": "stream",
     "text": [
      "Addition of 2+3 = 5\n"
     ]
    }
   ],
   "source": [
    "try:\n",
    "    def add(x,y):\n",
    "        print(f\"Addition of {x}+{y} =\",x+y)\n",
    "    def sub(x,y):\n",
    "        print(f\"subtraction of {x}-{y} =\",x-y)\n",
    "    def multiply(x,y):\n",
    "        print(f\"multiplication of {x}*{y} =\",x*y)\n",
    "    def div(x,y):\n",
    "        print(f\"division of {x}/{y} =\",x/y)\n",
    "except exception as ex:\n",
    "    print(ex)\n",
    "while(True):\n",
    "    \n",
    "    m=int(input('enter 1st number:'))\n",
    "    n=int(input('enter 2nd number:'))\n",
    "    print(\"choose the correct below option for calculation\")\n",
    "    print(\"For addition pls enter option a\")\n",
    "    print(\"For subtraction pls enter option b\")\n",
    "    print(\"For multiplication pls enter option c\")\n",
    "    print(\"For division pls enter option d\")\n",
    "    print(\"For exit pls enter exit\")\n",
    "    choice=str(input(\"enter the option\"))\n",
    "    if choice == 'a':\n",
    "        add(m,n)\n",
    "    elif choice == 'b':\n",
    "        sub(m,n)\n",
    "    elif choice == 'c':\n",
    "        multiply(m,n)\n",
    "    elif choice == 'd':\n",
    "        div(m,n)\n",
    "    elif choice == 'exit':\n",
    "        break\n",
    "    else:\n",
    "        print(\"valid option\")\n",
    "\n",
    "\n",
    "    "
   ]
  },
  {
   "cell_type": "code",
   "execution_count": null,
   "id": "b44e1a36-8377-43ee-8d19-e3f39e5b610e",
   "metadata": {},
   "outputs": [],
   "source": []
  }
 ],
 "metadata": {
  "kernelspec": {
   "display_name": "Python 3 (ipykernel)",
   "language": "python",
   "name": "python3"
  },
  "language_info": {
   "codemirror_mode": {
    "name": "ipython",
    "version": 3
   },
   "file_extension": ".py",
   "mimetype": "text/x-python",
   "name": "python",
   "nbconvert_exporter": "python",
   "pygments_lexer": "ipython3",
   "version": "3.10.6"
  }
 },
 "nbformat": 4,
 "nbformat_minor": 5
}
